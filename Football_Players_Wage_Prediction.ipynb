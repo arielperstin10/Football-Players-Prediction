{
  "cells": [
    {
      "cell_type": "markdown",
      "metadata": {
        "id": "QCO3JQJ4WqKK"
      },
      "source": [
        "## **1. Regression on the data set**"
      ]
    },
    {
      "cell_type": "markdown",
      "metadata": {
        "id": "KZ5nUjltWuDD"
      },
      "source": [
        "Registering To Kaggle API"
      ]
    },
    {
      "cell_type": "code",
      "execution_count": 61,
      "metadata": {
        "colab": {
          "base_uri": "https://localhost:8080/"
        },
        "id": "mqtLnjkdWltV",
        "outputId": "47694785-7096-403e-b186-4f1e2d8c3345"
      },
      "outputs": [
        {
          "name": "stdout",
          "output_type": "stream",
          "text": [
            "mkdir: cannot create directory ‘/root/.kaggle/’: File exists\n"
          ]
        }
      ],
      "source": [
        "import json\n",
        "import os\n",
        "\n",
        "!mkdir /root/.kaggle/\n",
        "# Installing the Kaggle package\n",
        "\n",
        "\n",
        "# creating kaggle.json file with the personal API-Key details\n",
        "# You can also put this file on your Google Drive\n",
        "\n",
        "with open('/root/.kaggle/kaggle.json', 'w') as file:\n",
        "  json.dump(api_token, file)\n",
        "!chmod 600 /root/.kaggle/kaggle.json"
      ]
    },
    {
      "cell_type": "markdown",
      "metadata": {
        "id": "26-0xKVdXHeN"
      },
      "source": [
        "Downloading the Football Players Data"
      ]
    },
    {
      "cell_type": "code",
      "execution_count": null,
      "metadata": {
        "colab": {
          "base_uri": "https://localhost:8080/"
        },
        "id": "2Lc0tonEXKYJ",
        "outputId": "2d5cfa76-d595-49b9-b8c4-85c984a801db"
      },
      "outputs": [
        {
          "name": "stdout",
          "output_type": "stream",
          "text": [
            "mkdir: cannot create directory ‘./datasets/football-players-data’: No such file or directory\n",
            "Dataset URL: https://www.kaggle.com/datasets/maso0dahmed/football-players-data\n",
            "License(s): apache-2.0\n",
            "Downloading football-players-data.zip to ./datasets/football-players-data\n",
            "  0% 0.00/1.24M [00:00<?, ?B/s]\n",
            "100% 1.24M/1.24M [00:00<00:00, 60.6MB/s]\n",
            "Archive:  ./datasets/football-players-data/football-players-data.zip\n",
            "  inflating: ./datasets/football-players-data/fifa_players.csv  \n"
          ]
        }
      ],
      "source": [
        "!mkdir ./datasets/football-players-data\n",
        "!kaggle datasets download maso0dahmed/football-players-data -p ./datasets/football-players-data\n",
        "!unzip ./datasets/football-players-data/*.zip  -d ./datasets/football-players-data/"
      ]
    },
    {
      "cell_type": "markdown",
      "metadata": {
        "id": "u9ho-tPaXOcN"
      },
      "source": [
        "Load Football Players Data into Pandas Dataframe."
      ]
    },
    {
      "cell_type": "code",
      "execution_count": null,
      "metadata": {
        "colab": {
          "base_uri": "https://localhost:8080/",
          "height": 377
        },
        "id": "IPKge51KXRB4",
        "outputId": "f8e97e22-b68b-4275-b0a3-114195c2cfd4"
      },
      "outputs": [
        {
          "data": {
            "application/vnd.google.colaboratory.intrinsic+json": {
              "type": "dataframe",
              "variable_name": "df"
            },
            "text/html": [
              "\n",
              "  <div id=\"df-1844a5c3-99eb-4ae0-b6c4-cc12a9f0b704\" class=\"colab-df-container\">\n",
              "    <div>\n",
              "<style scoped>\n",
              "    .dataframe tbody tr th:only-of-type {\n",
              "        vertical-align: middle;\n",
              "    }\n",
              "\n",
              "    .dataframe tbody tr th {\n",
              "        vertical-align: top;\n",
              "    }\n",
              "\n",
              "    .dataframe thead th {\n",
              "        text-align: right;\n",
              "    }\n",
              "</style>\n",
              "<table border=\"1\" class=\"dataframe\">\n",
              "  <thead>\n",
              "    <tr style=\"text-align: right;\">\n",
              "      <th></th>\n",
              "      <th>name</th>\n",
              "      <th>full_name</th>\n",
              "      <th>birth_date</th>\n",
              "      <th>age</th>\n",
              "      <th>height_cm</th>\n",
              "      <th>weight_kgs</th>\n",
              "      <th>positions</th>\n",
              "      <th>nationality</th>\n",
              "      <th>overall_rating</th>\n",
              "      <th>potential</th>\n",
              "      <th>...</th>\n",
              "      <th>long_shots</th>\n",
              "      <th>aggression</th>\n",
              "      <th>interceptions</th>\n",
              "      <th>positioning</th>\n",
              "      <th>vision</th>\n",
              "      <th>penalties</th>\n",
              "      <th>composure</th>\n",
              "      <th>marking</th>\n",
              "      <th>standing_tackle</th>\n",
              "      <th>sliding_tackle</th>\n",
              "    </tr>\n",
              "  </thead>\n",
              "  <tbody>\n",
              "    <tr>\n",
              "      <th>0</th>\n",
              "      <td>L. Messi</td>\n",
              "      <td>Lionel AndrÃ©s Messi Cuccittini</td>\n",
              "      <td>6/24/1987</td>\n",
              "      <td>31</td>\n",
              "      <td>170.18</td>\n",
              "      <td>72.1</td>\n",
              "      <td>CF,RW,ST</td>\n",
              "      <td>Argentina</td>\n",
              "      <td>94</td>\n",
              "      <td>94</td>\n",
              "      <td>...</td>\n",
              "      <td>94</td>\n",
              "      <td>48</td>\n",
              "      <td>22</td>\n",
              "      <td>94</td>\n",
              "      <td>94</td>\n",
              "      <td>75</td>\n",
              "      <td>96</td>\n",
              "      <td>33</td>\n",
              "      <td>28</td>\n",
              "      <td>26</td>\n",
              "    </tr>\n",
              "    <tr>\n",
              "      <th>1</th>\n",
              "      <td>C. Eriksen</td>\n",
              "      <td>Christian  Dannemann Eriksen</td>\n",
              "      <td>2/14/1992</td>\n",
              "      <td>27</td>\n",
              "      <td>154.94</td>\n",
              "      <td>76.2</td>\n",
              "      <td>CAM,RM,CM</td>\n",
              "      <td>Denmark</td>\n",
              "      <td>88</td>\n",
              "      <td>89</td>\n",
              "      <td>...</td>\n",
              "      <td>89</td>\n",
              "      <td>46</td>\n",
              "      <td>56</td>\n",
              "      <td>84</td>\n",
              "      <td>91</td>\n",
              "      <td>67</td>\n",
              "      <td>88</td>\n",
              "      <td>59</td>\n",
              "      <td>57</td>\n",
              "      <td>22</td>\n",
              "    </tr>\n",
              "    <tr>\n",
              "      <th>2</th>\n",
              "      <td>P. Pogba</td>\n",
              "      <td>Paul Pogba</td>\n",
              "      <td>3/15/1993</td>\n",
              "      <td>25</td>\n",
              "      <td>190.50</td>\n",
              "      <td>83.9</td>\n",
              "      <td>CM,CAM</td>\n",
              "      <td>France</td>\n",
              "      <td>88</td>\n",
              "      <td>91</td>\n",
              "      <td>...</td>\n",
              "      <td>82</td>\n",
              "      <td>78</td>\n",
              "      <td>64</td>\n",
              "      <td>82</td>\n",
              "      <td>88</td>\n",
              "      <td>82</td>\n",
              "      <td>87</td>\n",
              "      <td>63</td>\n",
              "      <td>67</td>\n",
              "      <td>67</td>\n",
              "    </tr>\n",
              "    <tr>\n",
              "      <th>3</th>\n",
              "      <td>L. Insigne</td>\n",
              "      <td>Lorenzo Insigne</td>\n",
              "      <td>6/4/1991</td>\n",
              "      <td>27</td>\n",
              "      <td>162.56</td>\n",
              "      <td>59.0</td>\n",
              "      <td>LW,ST</td>\n",
              "      <td>Italy</td>\n",
              "      <td>88</td>\n",
              "      <td>88</td>\n",
              "      <td>...</td>\n",
              "      <td>84</td>\n",
              "      <td>34</td>\n",
              "      <td>26</td>\n",
              "      <td>83</td>\n",
              "      <td>87</td>\n",
              "      <td>61</td>\n",
              "      <td>83</td>\n",
              "      <td>51</td>\n",
              "      <td>24</td>\n",
              "      <td>22</td>\n",
              "    </tr>\n",
              "    <tr>\n",
              "      <th>4</th>\n",
              "      <td>K. Koulibaly</td>\n",
              "      <td>Kalidou Koulibaly</td>\n",
              "      <td>6/20/1991</td>\n",
              "      <td>27</td>\n",
              "      <td>187.96</td>\n",
              "      <td>88.9</td>\n",
              "      <td>CB</td>\n",
              "      <td>Senegal</td>\n",
              "      <td>88</td>\n",
              "      <td>91</td>\n",
              "      <td>...</td>\n",
              "      <td>15</td>\n",
              "      <td>87</td>\n",
              "      <td>88</td>\n",
              "      <td>24</td>\n",
              "      <td>49</td>\n",
              "      <td>33</td>\n",
              "      <td>80</td>\n",
              "      <td>91</td>\n",
              "      <td>88</td>\n",
              "      <td>87</td>\n",
              "    </tr>\n",
              "  </tbody>\n",
              "</table>\n",
              "<p>5 rows × 51 columns</p>\n",
              "</div>\n",
              "    <div class=\"colab-df-buttons\">\n",
              "\n",
              "  <div class=\"colab-df-container\">\n",
              "    <button class=\"colab-df-convert\" onclick=\"convertToInteractive('df-1844a5c3-99eb-4ae0-b6c4-cc12a9f0b704')\"\n",
              "            title=\"Convert this dataframe to an interactive table.\"\n",
              "            style=\"display:none;\">\n",
              "\n",
              "  <svg xmlns=\"http://www.w3.org/2000/svg\" height=\"24px\" viewBox=\"0 -960 960 960\">\n",
              "    <path d=\"M120-120v-720h720v720H120Zm60-500h600v-160H180v160Zm220 220h160v-160H400v160Zm0 220h160v-160H400v160ZM180-400h160v-160H180v160Zm440 0h160v-160H620v160ZM180-180h160v-160H180v160Zm440 0h160v-160H620v160Z\"/>\n",
              "  </svg>\n",
              "    </button>\n",
              "\n",
              "  <style>\n",
              "    .colab-df-container {\n",
              "      display:flex;\n",
              "      gap: 12px;\n",
              "    }\n",
              "\n",
              "    .colab-df-convert {\n",
              "      background-color: #E8F0FE;\n",
              "      border: none;\n",
              "      border-radius: 50%;\n",
              "      cursor: pointer;\n",
              "      display: none;\n",
              "      fill: #1967D2;\n",
              "      height: 32px;\n",
              "      padding: 0 0 0 0;\n",
              "      width: 32px;\n",
              "    }\n",
              "\n",
              "    .colab-df-convert:hover {\n",
              "      background-color: #E2EBFA;\n",
              "      box-shadow: 0px 1px 2px rgba(60, 64, 67, 0.3), 0px 1px 3px 1px rgba(60, 64, 67, 0.15);\n",
              "      fill: #174EA6;\n",
              "    }\n",
              "\n",
              "    .colab-df-buttons div {\n",
              "      margin-bottom: 4px;\n",
              "    }\n",
              "\n",
              "    [theme=dark] .colab-df-convert {\n",
              "      background-color: #3B4455;\n",
              "      fill: #D2E3FC;\n",
              "    }\n",
              "\n",
              "    [theme=dark] .colab-df-convert:hover {\n",
              "      background-color: #434B5C;\n",
              "      box-shadow: 0px 1px 3px 1px rgba(0, 0, 0, 0.15);\n",
              "      filter: drop-shadow(0px 1px 2px rgba(0, 0, 0, 0.3));\n",
              "      fill: #FFFFFF;\n",
              "    }\n",
              "  </style>\n",
              "\n",
              "    <script>\n",
              "      const buttonEl =\n",
              "        document.querySelector('#df-1844a5c3-99eb-4ae0-b6c4-cc12a9f0b704 button.colab-df-convert');\n",
              "      buttonEl.style.display =\n",
              "        google.colab.kernel.accessAllowed ? 'block' : 'none';\n",
              "\n",
              "      async function convertToInteractive(key) {\n",
              "        const element = document.querySelector('#df-1844a5c3-99eb-4ae0-b6c4-cc12a9f0b704');\n",
              "        const dataTable =\n",
              "          await google.colab.kernel.invokeFunction('convertToInteractive',\n",
              "                                                    [key], {});\n",
              "        if (!dataTable) return;\n",
              "\n",
              "        const docLinkHtml = 'Like what you see? Visit the ' +\n",
              "          '<a target=\"_blank\" href=https://colab.research.google.com/notebooks/data_table.ipynb>data table notebook</a>'\n",
              "          + ' to learn more about interactive tables.';\n",
              "        element.innerHTML = '';\n",
              "        dataTable['output_type'] = 'display_data';\n",
              "        await google.colab.output.renderOutput(dataTable, element);\n",
              "        const docLink = document.createElement('div');\n",
              "        docLink.innerHTML = docLinkHtml;\n",
              "        element.appendChild(docLink);\n",
              "      }\n",
              "    </script>\n",
              "  </div>\n",
              "\n",
              "\n",
              "<div id=\"df-2f719590-9e69-4c76-bc92-3c5655aafe64\">\n",
              "  <button class=\"colab-df-quickchart\" onclick=\"quickchart('df-2f719590-9e69-4c76-bc92-3c5655aafe64')\"\n",
              "            title=\"Suggest charts\"\n",
              "            style=\"display:none;\">\n",
              "\n",
              "<svg xmlns=\"http://www.w3.org/2000/svg\" height=\"24px\"viewBox=\"0 0 24 24\"\n",
              "     width=\"24px\">\n",
              "    <g>\n",
              "        <path d=\"M19 3H5c-1.1 0-2 .9-2 2v14c0 1.1.9 2 2 2h14c1.1 0 2-.9 2-2V5c0-1.1-.9-2-2-2zM9 17H7v-7h2v7zm4 0h-2V7h2v10zm4 0h-2v-4h2v4z\"/>\n",
              "    </g>\n",
              "</svg>\n",
              "  </button>\n",
              "\n",
              "<style>\n",
              "  .colab-df-quickchart {\n",
              "      --bg-color: #E8F0FE;\n",
              "      --fill-color: #1967D2;\n",
              "      --hover-bg-color: #E2EBFA;\n",
              "      --hover-fill-color: #174EA6;\n",
              "      --disabled-fill-color: #AAA;\n",
              "      --disabled-bg-color: #DDD;\n",
              "  }\n",
              "\n",
              "  [theme=dark] .colab-df-quickchart {\n",
              "      --bg-color: #3B4455;\n",
              "      --fill-color: #D2E3FC;\n",
              "      --hover-bg-color: #434B5C;\n",
              "      --hover-fill-color: #FFFFFF;\n",
              "      --disabled-bg-color: #3B4455;\n",
              "      --disabled-fill-color: #666;\n",
              "  }\n",
              "\n",
              "  .colab-df-quickchart {\n",
              "    background-color: var(--bg-color);\n",
              "    border: none;\n",
              "    border-radius: 50%;\n",
              "    cursor: pointer;\n",
              "    display: none;\n",
              "    fill: var(--fill-color);\n",
              "    height: 32px;\n",
              "    padding: 0;\n",
              "    width: 32px;\n",
              "  }\n",
              "\n",
              "  .colab-df-quickchart:hover {\n",
              "    background-color: var(--hover-bg-color);\n",
              "    box-shadow: 0 1px 2px rgba(60, 64, 67, 0.3), 0 1px 3px 1px rgba(60, 64, 67, 0.15);\n",
              "    fill: var(--button-hover-fill-color);\n",
              "  }\n",
              "\n",
              "  .colab-df-quickchart-complete:disabled,\n",
              "  .colab-df-quickchart-complete:disabled:hover {\n",
              "    background-color: var(--disabled-bg-color);\n",
              "    fill: var(--disabled-fill-color);\n",
              "    box-shadow: none;\n",
              "  }\n",
              "\n",
              "  .colab-df-spinner {\n",
              "    border: 2px solid var(--fill-color);\n",
              "    border-color: transparent;\n",
              "    border-bottom-color: var(--fill-color);\n",
              "    animation:\n",
              "      spin 1s steps(1) infinite;\n",
              "  }\n",
              "\n",
              "  @keyframes spin {\n",
              "    0% {\n",
              "      border-color: transparent;\n",
              "      border-bottom-color: var(--fill-color);\n",
              "      border-left-color: var(--fill-color);\n",
              "    }\n",
              "    20% {\n",
              "      border-color: transparent;\n",
              "      border-left-color: var(--fill-color);\n",
              "      border-top-color: var(--fill-color);\n",
              "    }\n",
              "    30% {\n",
              "      border-color: transparent;\n",
              "      border-left-color: var(--fill-color);\n",
              "      border-top-color: var(--fill-color);\n",
              "      border-right-color: var(--fill-color);\n",
              "    }\n",
              "    40% {\n",
              "      border-color: transparent;\n",
              "      border-right-color: var(--fill-color);\n",
              "      border-top-color: var(--fill-color);\n",
              "    }\n",
              "    60% {\n",
              "      border-color: transparent;\n",
              "      border-right-color: var(--fill-color);\n",
              "    }\n",
              "    80% {\n",
              "      border-color: transparent;\n",
              "      border-right-color: var(--fill-color);\n",
              "      border-bottom-color: var(--fill-color);\n",
              "    }\n",
              "    90% {\n",
              "      border-color: transparent;\n",
              "      border-bottom-color: var(--fill-color);\n",
              "    }\n",
              "  }\n",
              "</style>\n",
              "\n",
              "  <script>\n",
              "    async function quickchart(key) {\n",
              "      const quickchartButtonEl =\n",
              "        document.querySelector('#' + key + ' button');\n",
              "      quickchartButtonEl.disabled = true;  // To prevent multiple clicks.\n",
              "      quickchartButtonEl.classList.add('colab-df-spinner');\n",
              "      try {\n",
              "        const charts = await google.colab.kernel.invokeFunction(\n",
              "            'suggestCharts', [key], {});\n",
              "      } catch (error) {\n",
              "        console.error('Error during call to suggestCharts:', error);\n",
              "      }\n",
              "      quickchartButtonEl.classList.remove('colab-df-spinner');\n",
              "      quickchartButtonEl.classList.add('colab-df-quickchart-complete');\n",
              "    }\n",
              "    (() => {\n",
              "      let quickchartButtonEl =\n",
              "        document.querySelector('#df-2f719590-9e69-4c76-bc92-3c5655aafe64 button');\n",
              "      quickchartButtonEl.style.display =\n",
              "        google.colab.kernel.accessAllowed ? 'block' : 'none';\n",
              "    })();\n",
              "  </script>\n",
              "</div>\n",
              "\n",
              "    </div>\n",
              "  </div>\n"
            ],
            "text/plain": [
              "           name                        full_name birth_date  age  height_cm  \\\n",
              "0      L. Messi  Lionel AndrÃ©s Messi Cuccittini  6/24/1987   31     170.18   \n",
              "1    C. Eriksen     Christian  Dannemann Eriksen  2/14/1992   27     154.94   \n",
              "2      P. Pogba                       Paul Pogba  3/15/1993   25     190.50   \n",
              "3    L. Insigne                  Lorenzo Insigne   6/4/1991   27     162.56   \n",
              "4  K. Koulibaly                Kalidou Koulibaly  6/20/1991   27     187.96   \n",
              "\n",
              "   weight_kgs  positions nationality  overall_rating  potential  ...  \\\n",
              "0        72.1   CF,RW,ST   Argentina              94         94  ...   \n",
              "1        76.2  CAM,RM,CM     Denmark              88         89  ...   \n",
              "2        83.9     CM,CAM      France              88         91  ...   \n",
              "3        59.0      LW,ST       Italy              88         88  ...   \n",
              "4        88.9         CB     Senegal              88         91  ...   \n",
              "\n",
              "   long_shots  aggression interceptions  positioning  vision  penalties  \\\n",
              "0          94          48            22           94      94         75   \n",
              "1          89          46            56           84      91         67   \n",
              "2          82          78            64           82      88         82   \n",
              "3          84          34            26           83      87         61   \n",
              "4          15          87            88           24      49         33   \n",
              "\n",
              "  composure  marking standing_tackle  sliding_tackle  \n",
              "0        96       33              28              26  \n",
              "1        88       59              57              22  \n",
              "2        87       63              67              67  \n",
              "3        83       51              24              22  \n",
              "4        80       91              88              87  \n",
              "\n",
              "[5 rows x 51 columns]"
            ]
          },
          "execution_count": 4,
          "metadata": {},
          "output_type": "execute_result"
        }
      ],
      "source": [
        "import pandas as pd\n",
        "df = pd.read_csv('./datasets/football-players-data/fifa_players.csv', encoding= 'unicode_escape')\n",
        "df.head()"
      ]
    },
    {
      "cell_type": "markdown",
      "metadata": {
        "id": "OH5-VUGeXTE9"
      },
      "source": [
        "Convert value_euro to millions for easier interpretation"
      ]
    },
    {
      "cell_type": "code",
      "execution_count": null,
      "metadata": {
        "colab": {
          "base_uri": "https://localhost:8080/",
          "height": 377
        },
        "id": "KmaleTdwXV26",
        "outputId": "48903882-f35d-499a-cd1f-e2995f0cf914"
      },
      "outputs": [
        {
          "data": {
            "application/vnd.google.colaboratory.intrinsic+json": {
              "type": "dataframe",
              "variable_name": "df"
            },
            "text/html": [
              "\n",
              "  <div id=\"df-f242d8a2-a611-453e-8029-67db602f1e3a\" class=\"colab-df-container\">\n",
              "    <div>\n",
              "<style scoped>\n",
              "    .dataframe tbody tr th:only-of-type {\n",
              "        vertical-align: middle;\n",
              "    }\n",
              "\n",
              "    .dataframe tbody tr th {\n",
              "        vertical-align: top;\n",
              "    }\n",
              "\n",
              "    .dataframe thead th {\n",
              "        text-align: right;\n",
              "    }\n",
              "</style>\n",
              "<table border=\"1\" class=\"dataframe\">\n",
              "  <thead>\n",
              "    <tr style=\"text-align: right;\">\n",
              "      <th></th>\n",
              "      <th>name</th>\n",
              "      <th>full_name</th>\n",
              "      <th>birth_date</th>\n",
              "      <th>age</th>\n",
              "      <th>height_cm</th>\n",
              "      <th>weight_kgs</th>\n",
              "      <th>positions</th>\n",
              "      <th>nationality</th>\n",
              "      <th>overall_rating</th>\n",
              "      <th>potential</th>\n",
              "      <th>...</th>\n",
              "      <th>aggression</th>\n",
              "      <th>interceptions</th>\n",
              "      <th>positioning</th>\n",
              "      <th>vision</th>\n",
              "      <th>penalties</th>\n",
              "      <th>composure</th>\n",
              "      <th>marking</th>\n",
              "      <th>standing_tackle</th>\n",
              "      <th>sliding_tackle</th>\n",
              "      <th>value_million_euro</th>\n",
              "    </tr>\n",
              "  </thead>\n",
              "  <tbody>\n",
              "    <tr>\n",
              "      <th>0</th>\n",
              "      <td>L. Messi</td>\n",
              "      <td>Lionel AndrÃ©s Messi Cuccittini</td>\n",
              "      <td>6/24/1987</td>\n",
              "      <td>31</td>\n",
              "      <td>170.18</td>\n",
              "      <td>72.1</td>\n",
              "      <td>CF,RW,ST</td>\n",
              "      <td>Argentina</td>\n",
              "      <td>94</td>\n",
              "      <td>94</td>\n",
              "      <td>...</td>\n",
              "      <td>48</td>\n",
              "      <td>22</td>\n",
              "      <td>94</td>\n",
              "      <td>94</td>\n",
              "      <td>75</td>\n",
              "      <td>96</td>\n",
              "      <td>33</td>\n",
              "      <td>28</td>\n",
              "      <td>26</td>\n",
              "      <td>110.5</td>\n",
              "    </tr>\n",
              "    <tr>\n",
              "      <th>1</th>\n",
              "      <td>C. Eriksen</td>\n",
              "      <td>Christian  Dannemann Eriksen</td>\n",
              "      <td>2/14/1992</td>\n",
              "      <td>27</td>\n",
              "      <td>154.94</td>\n",
              "      <td>76.2</td>\n",
              "      <td>CAM,RM,CM</td>\n",
              "      <td>Denmark</td>\n",
              "      <td>88</td>\n",
              "      <td>89</td>\n",
              "      <td>...</td>\n",
              "      <td>46</td>\n",
              "      <td>56</td>\n",
              "      <td>84</td>\n",
              "      <td>91</td>\n",
              "      <td>67</td>\n",
              "      <td>88</td>\n",
              "      <td>59</td>\n",
              "      <td>57</td>\n",
              "      <td>22</td>\n",
              "      <td>69.5</td>\n",
              "    </tr>\n",
              "    <tr>\n",
              "      <th>2</th>\n",
              "      <td>P. Pogba</td>\n",
              "      <td>Paul Pogba</td>\n",
              "      <td>3/15/1993</td>\n",
              "      <td>25</td>\n",
              "      <td>190.50</td>\n",
              "      <td>83.9</td>\n",
              "      <td>CM,CAM</td>\n",
              "      <td>France</td>\n",
              "      <td>88</td>\n",
              "      <td>91</td>\n",
              "      <td>...</td>\n",
              "      <td>78</td>\n",
              "      <td>64</td>\n",
              "      <td>82</td>\n",
              "      <td>88</td>\n",
              "      <td>82</td>\n",
              "      <td>87</td>\n",
              "      <td>63</td>\n",
              "      <td>67</td>\n",
              "      <td>67</td>\n",
              "      <td>73.0</td>\n",
              "    </tr>\n",
              "    <tr>\n",
              "      <th>3</th>\n",
              "      <td>L. Insigne</td>\n",
              "      <td>Lorenzo Insigne</td>\n",
              "      <td>6/4/1991</td>\n",
              "      <td>27</td>\n",
              "      <td>162.56</td>\n",
              "      <td>59.0</td>\n",
              "      <td>LW,ST</td>\n",
              "      <td>Italy</td>\n",
              "      <td>88</td>\n",
              "      <td>88</td>\n",
              "      <td>...</td>\n",
              "      <td>34</td>\n",
              "      <td>26</td>\n",
              "      <td>83</td>\n",
              "      <td>87</td>\n",
              "      <td>61</td>\n",
              "      <td>83</td>\n",
              "      <td>51</td>\n",
              "      <td>24</td>\n",
              "      <td>22</td>\n",
              "      <td>62.0</td>\n",
              "    </tr>\n",
              "    <tr>\n",
              "      <th>4</th>\n",
              "      <td>K. Koulibaly</td>\n",
              "      <td>Kalidou Koulibaly</td>\n",
              "      <td>6/20/1991</td>\n",
              "      <td>27</td>\n",
              "      <td>187.96</td>\n",
              "      <td>88.9</td>\n",
              "      <td>CB</td>\n",
              "      <td>Senegal</td>\n",
              "      <td>88</td>\n",
              "      <td>91</td>\n",
              "      <td>...</td>\n",
              "      <td>87</td>\n",
              "      <td>88</td>\n",
              "      <td>24</td>\n",
              "      <td>49</td>\n",
              "      <td>33</td>\n",
              "      <td>80</td>\n",
              "      <td>91</td>\n",
              "      <td>88</td>\n",
              "      <td>87</td>\n",
              "      <td>60.0</td>\n",
              "    </tr>\n",
              "  </tbody>\n",
              "</table>\n",
              "<p>5 rows × 52 columns</p>\n",
              "</div>\n",
              "    <div class=\"colab-df-buttons\">\n",
              "\n",
              "  <div class=\"colab-df-container\">\n",
              "    <button class=\"colab-df-convert\" onclick=\"convertToInteractive('df-f242d8a2-a611-453e-8029-67db602f1e3a')\"\n",
              "            title=\"Convert this dataframe to an interactive table.\"\n",
              "            style=\"display:none;\">\n",
              "\n",
              "  <svg xmlns=\"http://www.w3.org/2000/svg\" height=\"24px\" viewBox=\"0 -960 960 960\">\n",
              "    <path d=\"M120-120v-720h720v720H120Zm60-500h600v-160H180v160Zm220 220h160v-160H400v160Zm0 220h160v-160H400v160ZM180-400h160v-160H180v160Zm440 0h160v-160H620v160ZM180-180h160v-160H180v160Zm440 0h160v-160H620v160Z\"/>\n",
              "  </svg>\n",
              "    </button>\n",
              "\n",
              "  <style>\n",
              "    .colab-df-container {\n",
              "      display:flex;\n",
              "      gap: 12px;\n",
              "    }\n",
              "\n",
              "    .colab-df-convert {\n",
              "      background-color: #E8F0FE;\n",
              "      border: none;\n",
              "      border-radius: 50%;\n",
              "      cursor: pointer;\n",
              "      display: none;\n",
              "      fill: #1967D2;\n",
              "      height: 32px;\n",
              "      padding: 0 0 0 0;\n",
              "      width: 32px;\n",
              "    }\n",
              "\n",
              "    .colab-df-convert:hover {\n",
              "      background-color: #E2EBFA;\n",
              "      box-shadow: 0px 1px 2px rgba(60, 64, 67, 0.3), 0px 1px 3px 1px rgba(60, 64, 67, 0.15);\n",
              "      fill: #174EA6;\n",
              "    }\n",
              "\n",
              "    .colab-df-buttons div {\n",
              "      margin-bottom: 4px;\n",
              "    }\n",
              "\n",
              "    [theme=dark] .colab-df-convert {\n",
              "      background-color: #3B4455;\n",
              "      fill: #D2E3FC;\n",
              "    }\n",
              "\n",
              "    [theme=dark] .colab-df-convert:hover {\n",
              "      background-color: #434B5C;\n",
              "      box-shadow: 0px 1px 3px 1px rgba(0, 0, 0, 0.15);\n",
              "      filter: drop-shadow(0px 1px 2px rgba(0, 0, 0, 0.3));\n",
              "      fill: #FFFFFF;\n",
              "    }\n",
              "  </style>\n",
              "\n",
              "    <script>\n",
              "      const buttonEl =\n",
              "        document.querySelector('#df-f242d8a2-a611-453e-8029-67db602f1e3a button.colab-df-convert');\n",
              "      buttonEl.style.display =\n",
              "        google.colab.kernel.accessAllowed ? 'block' : 'none';\n",
              "\n",
              "      async function convertToInteractive(key) {\n",
              "        const element = document.querySelector('#df-f242d8a2-a611-453e-8029-67db602f1e3a');\n",
              "        const dataTable =\n",
              "          await google.colab.kernel.invokeFunction('convertToInteractive',\n",
              "                                                    [key], {});\n",
              "        if (!dataTable) return;\n",
              "\n",
              "        const docLinkHtml = 'Like what you see? Visit the ' +\n",
              "          '<a target=\"_blank\" href=https://colab.research.google.com/notebooks/data_table.ipynb>data table notebook</a>'\n",
              "          + ' to learn more about interactive tables.';\n",
              "        element.innerHTML = '';\n",
              "        dataTable['output_type'] = 'display_data';\n",
              "        await google.colab.output.renderOutput(dataTable, element);\n",
              "        const docLink = document.createElement('div');\n",
              "        docLink.innerHTML = docLinkHtml;\n",
              "        element.appendChild(docLink);\n",
              "      }\n",
              "    </script>\n",
              "  </div>\n",
              "\n",
              "\n",
              "<div id=\"df-1f0e2916-ddc2-471f-b37b-ec162d4db0b4\">\n",
              "  <button class=\"colab-df-quickchart\" onclick=\"quickchart('df-1f0e2916-ddc2-471f-b37b-ec162d4db0b4')\"\n",
              "            title=\"Suggest charts\"\n",
              "            style=\"display:none;\">\n",
              "\n",
              "<svg xmlns=\"http://www.w3.org/2000/svg\" height=\"24px\"viewBox=\"0 0 24 24\"\n",
              "     width=\"24px\">\n",
              "    <g>\n",
              "        <path d=\"M19 3H5c-1.1 0-2 .9-2 2v14c0 1.1.9 2 2 2h14c1.1 0 2-.9 2-2V5c0-1.1-.9-2-2-2zM9 17H7v-7h2v7zm4 0h-2V7h2v10zm4 0h-2v-4h2v4z\"/>\n",
              "    </g>\n",
              "</svg>\n",
              "  </button>\n",
              "\n",
              "<style>\n",
              "  .colab-df-quickchart {\n",
              "      --bg-color: #E8F0FE;\n",
              "      --fill-color: #1967D2;\n",
              "      --hover-bg-color: #E2EBFA;\n",
              "      --hover-fill-color: #174EA6;\n",
              "      --disabled-fill-color: #AAA;\n",
              "      --disabled-bg-color: #DDD;\n",
              "  }\n",
              "\n",
              "  [theme=dark] .colab-df-quickchart {\n",
              "      --bg-color: #3B4455;\n",
              "      --fill-color: #D2E3FC;\n",
              "      --hover-bg-color: #434B5C;\n",
              "      --hover-fill-color: #FFFFFF;\n",
              "      --disabled-bg-color: #3B4455;\n",
              "      --disabled-fill-color: #666;\n",
              "  }\n",
              "\n",
              "  .colab-df-quickchart {\n",
              "    background-color: var(--bg-color);\n",
              "    border: none;\n",
              "    border-radius: 50%;\n",
              "    cursor: pointer;\n",
              "    display: none;\n",
              "    fill: var(--fill-color);\n",
              "    height: 32px;\n",
              "    padding: 0;\n",
              "    width: 32px;\n",
              "  }\n",
              "\n",
              "  .colab-df-quickchart:hover {\n",
              "    background-color: var(--hover-bg-color);\n",
              "    box-shadow: 0 1px 2px rgba(60, 64, 67, 0.3), 0 1px 3px 1px rgba(60, 64, 67, 0.15);\n",
              "    fill: var(--button-hover-fill-color);\n",
              "  }\n",
              "\n",
              "  .colab-df-quickchart-complete:disabled,\n",
              "  .colab-df-quickchart-complete:disabled:hover {\n",
              "    background-color: var(--disabled-bg-color);\n",
              "    fill: var(--disabled-fill-color);\n",
              "    box-shadow: none;\n",
              "  }\n",
              "\n",
              "  .colab-df-spinner {\n",
              "    border: 2px solid var(--fill-color);\n",
              "    border-color: transparent;\n",
              "    border-bottom-color: var(--fill-color);\n",
              "    animation:\n",
              "      spin 1s steps(1) infinite;\n",
              "  }\n",
              "\n",
              "  @keyframes spin {\n",
              "    0% {\n",
              "      border-color: transparent;\n",
              "      border-bottom-color: var(--fill-color);\n",
              "      border-left-color: var(--fill-color);\n",
              "    }\n",
              "    20% {\n",
              "      border-color: transparent;\n",
              "      border-left-color: var(--fill-color);\n",
              "      border-top-color: var(--fill-color);\n",
              "    }\n",
              "    30% {\n",
              "      border-color: transparent;\n",
              "      border-left-color: var(--fill-color);\n",
              "      border-top-color: var(--fill-color);\n",
              "      border-right-color: var(--fill-color);\n",
              "    }\n",
              "    40% {\n",
              "      border-color: transparent;\n",
              "      border-right-color: var(--fill-color);\n",
              "      border-top-color: var(--fill-color);\n",
              "    }\n",
              "    60% {\n",
              "      border-color: transparent;\n",
              "      border-right-color: var(--fill-color);\n",
              "    }\n",
              "    80% {\n",
              "      border-color: transparent;\n",
              "      border-right-color: var(--fill-color);\n",
              "      border-bottom-color: var(--fill-color);\n",
              "    }\n",
              "    90% {\n",
              "      border-color: transparent;\n",
              "      border-bottom-color: var(--fill-color);\n",
              "    }\n",
              "  }\n",
              "</style>\n",
              "\n",
              "  <script>\n",
              "    async function quickchart(key) {\n",
              "      const quickchartButtonEl =\n",
              "        document.querySelector('#' + key + ' button');\n",
              "      quickchartButtonEl.disabled = true;  // To prevent multiple clicks.\n",
              "      quickchartButtonEl.classList.add('colab-df-spinner');\n",
              "      try {\n",
              "        const charts = await google.colab.kernel.invokeFunction(\n",
              "            'suggestCharts', [key], {});\n",
              "      } catch (error) {\n",
              "        console.error('Error during call to suggestCharts:', error);\n",
              "      }\n",
              "      quickchartButtonEl.classList.remove('colab-df-spinner');\n",
              "      quickchartButtonEl.classList.add('colab-df-quickchart-complete');\n",
              "    }\n",
              "    (() => {\n",
              "      let quickchartButtonEl =\n",
              "        document.querySelector('#df-1f0e2916-ddc2-471f-b37b-ec162d4db0b4 button');\n",
              "      quickchartButtonEl.style.display =\n",
              "        google.colab.kernel.accessAllowed ? 'block' : 'none';\n",
              "    })();\n",
              "  </script>\n",
              "</div>\n",
              "\n",
              "    </div>\n",
              "  </div>\n"
            ],
            "text/plain": [
              "           name                        full_name birth_date  age  height_cm  \\\n",
              "0      L. Messi  Lionel AndrÃ©s Messi Cuccittini  6/24/1987   31     170.18   \n",
              "1    C. Eriksen     Christian  Dannemann Eriksen  2/14/1992   27     154.94   \n",
              "2      P. Pogba                       Paul Pogba  3/15/1993   25     190.50   \n",
              "3    L. Insigne                  Lorenzo Insigne   6/4/1991   27     162.56   \n",
              "4  K. Koulibaly                Kalidou Koulibaly  6/20/1991   27     187.96   \n",
              "\n",
              "   weight_kgs  positions nationality  overall_rating  potential  ...  \\\n",
              "0        72.1   CF,RW,ST   Argentina              94         94  ...   \n",
              "1        76.2  CAM,RM,CM     Denmark              88         89  ...   \n",
              "2        83.9     CM,CAM      France              88         91  ...   \n",
              "3        59.0      LW,ST       Italy              88         88  ...   \n",
              "4        88.9         CB     Senegal              88         91  ...   \n",
              "\n",
              "   aggression  interceptions positioning  vision  penalties  composure  \\\n",
              "0          48             22          94      94         75         96   \n",
              "1          46             56          84      91         67         88   \n",
              "2          78             64          82      88         82         87   \n",
              "3          34             26          83      87         61         83   \n",
              "4          87             88          24      49         33         80   \n",
              "\n",
              "  marking  standing_tackle sliding_tackle  value_million_euro  \n",
              "0      33               28             26               110.5  \n",
              "1      59               57             22                69.5  \n",
              "2      63               67             67                73.0  \n",
              "3      51               24             22                62.0  \n",
              "4      91               88             87                60.0  \n",
              "\n",
              "[5 rows x 52 columns]"
            ]
          },
          "execution_count": 5,
          "metadata": {},
          "output_type": "execute_result"
        }
      ],
      "source": [
        "df['value_million_euro'] = df['value_euro'] / 1000000\n",
        "df.head()"
      ]
    },
    {
      "cell_type": "markdown",
      "metadata": {
        "id": "qXpTN58iXbAm"
      },
      "source": [
        "Feature Engineering"
      ]
    },
    {
      "cell_type": "code",
      "execution_count": null,
      "metadata": {
        "id": "83chgERnXdvx"
      },
      "outputs": [],
      "source": [
        "import numpy as np\n",
        "df['age_bracket'] = pd.cut(df['age'], bins=[0, 23, 28, 32, 100], labels=[0, 1, 2, 3])\n",
        "df['potential_vs_overall'] = df['potential'] - df['overall_rating']"
      ]
    },
    {
      "cell_type": "markdown",
      "metadata": {
        "id": "oFdvZF6rXf41"
      },
      "source": [
        "Select features"
      ]
    },
    {
      "cell_type": "code",
      "execution_count": null,
      "metadata": {
        "id": "XrKEBLgCXgRz"
      },
      "outputs": [],
      "source": [
        "from sklearn.impute import SimpleImputer\n",
        "features = ['age_bracket', 'potential_vs_overall', 'overall_rating', 'wage_euro',\n",
        "            'international_reputation(1-5)', 'release_clause_euro'] + \\\n",
        "           [col for col in df.columns if col.endswith(('crossing', 'finishing', 'heading_accuracy',\n",
        "                                                      'short_passing', 'volleys', 'dribbling', 'curve',\n",
        "                                                      'freekick_accuracy', 'long_passing', 'ball_control'))]\n",
        "\n",
        "X = df[features]\n",
        "y = df['value_euro']"
      ]
    },
    {
      "cell_type": "markdown",
      "metadata": {
        "id": "CFQqNyNjXkMq"
      },
      "source": [
        "Handle NaN values in the target variable"
      ]
    },
    {
      "cell_type": "code",
      "execution_count": null,
      "metadata": {
        "id": "uMBXjKn_Xk0g"
      },
      "outputs": [],
      "source": [
        "y = y.fillna(y.median())"
      ]
    },
    {
      "cell_type": "markdown",
      "metadata": {
        "id": "4XItLd6AXnL4"
      },
      "source": [
        "Log-transform the target variable after handling NaN values"
      ]
    },
    {
      "cell_type": "code",
      "execution_count": null,
      "metadata": {
        "id": "Rf5WAuQ4XpAk"
      },
      "outputs": [],
      "source": [
        "y = np.log1p(y)"
      ]
    },
    {
      "cell_type": "markdown",
      "metadata": {
        "id": "-obwvOxBXrjs"
      },
      "source": [
        "Split the data"
      ]
    },
    {
      "cell_type": "code",
      "execution_count": null,
      "metadata": {
        "id": "-1eF3fcvXr8S"
      },
      "outputs": [],
      "source": [
        "from sklearn.model_selection import train_test_split\n",
        "X_train, X_test, y_train, y_test = train_test_split(X, y, test_size=0.2, random_state=42)"
      ]
    },
    {
      "cell_type": "markdown",
      "metadata": {
        "id": "kJx0T2CyXwUW"
      },
      "source": [
        "Create a preprocessing pipeline"
      ]
    },
    {
      "cell_type": "code",
      "execution_count": null,
      "metadata": {
        "id": "gC0iGjVjXvaN"
      },
      "outputs": [],
      "source": [
        "from sklearn.impute import SimpleImputer\n",
        "from sklearn.compose import ColumnTransformer\n",
        "from sklearn.pipeline import Pipeline\n",
        "from sklearn.preprocessing import StandardScaler\n",
        "numeric_features = X.select_dtypes(include=['int64', 'float64']).columns\n",
        "categorical_features = ['age_bracket']\n",
        "\n",
        "preprocessor = ColumnTransformer(\n",
        "    transformers=[\n",
        "        ('num', Pipeline([\n",
        "            ('imputer', SimpleImputer(strategy='median')),\n",
        "            ('scaler', StandardScaler())\n",
        "        ]), numeric_features),\n",
        "        ('cat', Pipeline([\n",
        "            ('imputer', SimpleImputer(strategy='constant', fill_value=-1)),\n",
        "        ]), categorical_features)\n",
        "    ])"
      ]
    },
    {
      "cell_type": "markdown",
      "metadata": {
        "id": "MmvpCxymXzAk"
      },
      "source": [
        "Create a pipeline with preprocessor and random forest"
      ]
    },
    {
      "cell_type": "code",
      "execution_count": null,
      "metadata": {
        "id": "lVWljPEPX09F"
      },
      "outputs": [],
      "source": [
        "from sklearn.ensemble import RandomForestRegressor\n",
        "rf_pipeline = Pipeline([\n",
        "    ('preprocessor', preprocessor),\n",
        "    ('regressor', RandomForestRegressor(n_estimators=100, random_state=42))\n",
        "])"
      ]
    },
    {
      "cell_type": "markdown",
      "metadata": {
        "id": "1T6vPcMrYAHt"
      },
      "source": [
        "Fit the pipeline"
      ]
    },
    {
      "cell_type": "code",
      "execution_count": null,
      "metadata": {
        "colab": {
          "base_uri": "https://localhost:8080/",
          "height": 259
        },
        "id": "VYE_NBV1YB43",
        "outputId": "cc57c6f6-0335-40f5-ede2-d7e08be765a3"
      },
      "outputs": [
        {
          "data": {
            "text/html": [
              "<style>#sk-container-id-1 {\n",
              "  /* Definition of color scheme common for light and dark mode */\n",
              "  --sklearn-color-text: black;\n",
              "  --sklearn-color-line: gray;\n",
              "  /* Definition of color scheme for unfitted estimators */\n",
              "  --sklearn-color-unfitted-level-0: #fff5e6;\n",
              "  --sklearn-color-unfitted-level-1: #f6e4d2;\n",
              "  --sklearn-color-unfitted-level-2: #ffe0b3;\n",
              "  --sklearn-color-unfitted-level-3: chocolate;\n",
              "  /* Definition of color scheme for fitted estimators */\n",
              "  --sklearn-color-fitted-level-0: #f0f8ff;\n",
              "  --sklearn-color-fitted-level-1: #d4ebff;\n",
              "  --sklearn-color-fitted-level-2: #b3dbfd;\n",
              "  --sklearn-color-fitted-level-3: cornflowerblue;\n",
              "\n",
              "  /* Specific color for light theme */\n",
              "  --sklearn-color-text-on-default-background: var(--sg-text-color, var(--theme-code-foreground, var(--jp-content-font-color1, black)));\n",
              "  --sklearn-color-background: var(--sg-background-color, var(--theme-background, var(--jp-layout-color0, white)));\n",
              "  --sklearn-color-border-box: var(--sg-text-color, var(--theme-code-foreground, var(--jp-content-font-color1, black)));\n",
              "  --sklearn-color-icon: #696969;\n",
              "\n",
              "  @media (prefers-color-scheme: dark) {\n",
              "    /* Redefinition of color scheme for dark theme */\n",
              "    --sklearn-color-text-on-default-background: var(--sg-text-color, var(--theme-code-foreground, var(--jp-content-font-color1, white)));\n",
              "    --sklearn-color-background: var(--sg-background-color, var(--theme-background, var(--jp-layout-color0, #111)));\n",
              "    --sklearn-color-border-box: var(--sg-text-color, var(--theme-code-foreground, var(--jp-content-font-color1, white)));\n",
              "    --sklearn-color-icon: #878787;\n",
              "  }\n",
              "}\n",
              "\n",
              "#sk-container-id-1 {\n",
              "  color: var(--sklearn-color-text);\n",
              "}\n",
              "\n",
              "#sk-container-id-1 pre {\n",
              "  padding: 0;\n",
              "}\n",
              "\n",
              "#sk-container-id-1 input.sk-hidden--visually {\n",
              "  border: 0;\n",
              "  clip: rect(1px 1px 1px 1px);\n",
              "  clip: rect(1px, 1px, 1px, 1px);\n",
              "  height: 1px;\n",
              "  margin: -1px;\n",
              "  overflow: hidden;\n",
              "  padding: 0;\n",
              "  position: absolute;\n",
              "  width: 1px;\n",
              "}\n",
              "\n",
              "#sk-container-id-1 div.sk-dashed-wrapped {\n",
              "  border: 1px dashed var(--sklearn-color-line);\n",
              "  margin: 0 0.4em 0.5em 0.4em;\n",
              "  box-sizing: border-box;\n",
              "  padding-bottom: 0.4em;\n",
              "  background-color: var(--sklearn-color-background);\n",
              "}\n",
              "\n",
              "#sk-container-id-1 div.sk-container {\n",
              "  /* jupyter's `normalize.less` sets `[hidden] { display: none; }`\n",
              "     but bootstrap.min.css set `[hidden] { display: none !important; }`\n",
              "     so we also need the `!important` here to be able to override the\n",
              "     default hidden behavior on the sphinx rendered scikit-learn.org.\n",
              "     See: https://github.com/scikit-learn/scikit-learn/issues/21755 */\n",
              "  display: inline-block !important;\n",
              "  position: relative;\n",
              "}\n",
              "\n",
              "#sk-container-id-1 div.sk-text-repr-fallback {\n",
              "  display: none;\n",
              "}\n",
              "\n",
              "div.sk-parallel-item,\n",
              "div.sk-serial,\n",
              "div.sk-item {\n",
              "  /* draw centered vertical line to link estimators */\n",
              "  background-image: linear-gradient(var(--sklearn-color-text-on-default-background), var(--sklearn-color-text-on-default-background));\n",
              "  background-size: 2px 100%;\n",
              "  background-repeat: no-repeat;\n",
              "  background-position: center center;\n",
              "}\n",
              "\n",
              "/* Parallel-specific style estimator block */\n",
              "\n",
              "#sk-container-id-1 div.sk-parallel-item::after {\n",
              "  content: \"\";\n",
              "  width: 100%;\n",
              "  border-bottom: 2px solid var(--sklearn-color-text-on-default-background);\n",
              "  flex-grow: 1;\n",
              "}\n",
              "\n",
              "#sk-container-id-1 div.sk-parallel {\n",
              "  display: flex;\n",
              "  align-items: stretch;\n",
              "  justify-content: center;\n",
              "  background-color: var(--sklearn-color-background);\n",
              "  position: relative;\n",
              "}\n",
              "\n",
              "#sk-container-id-1 div.sk-parallel-item {\n",
              "  display: flex;\n",
              "  flex-direction: column;\n",
              "}\n",
              "\n",
              "#sk-container-id-1 div.sk-parallel-item:first-child::after {\n",
              "  align-self: flex-end;\n",
              "  width: 50%;\n",
              "}\n",
              "\n",
              "#sk-container-id-1 div.sk-parallel-item:last-child::after {\n",
              "  align-self: flex-start;\n",
              "  width: 50%;\n",
              "}\n",
              "\n",
              "#sk-container-id-1 div.sk-parallel-item:only-child::after {\n",
              "  width: 0;\n",
              "}\n",
              "\n",
              "/* Serial-specific style estimator block */\n",
              "\n",
              "#sk-container-id-1 div.sk-serial {\n",
              "  display: flex;\n",
              "  flex-direction: column;\n",
              "  align-items: center;\n",
              "  background-color: var(--sklearn-color-background);\n",
              "  padding-right: 1em;\n",
              "  padding-left: 1em;\n",
              "}\n",
              "\n",
              "\n",
              "/* Toggleable style: style used for estimator/Pipeline/ColumnTransformer box that is\n",
              "clickable and can be expanded/collapsed.\n",
              "- Pipeline and ColumnTransformer use this feature and define the default style\n",
              "- Estimators will overwrite some part of the style using the `sk-estimator` class\n",
              "*/\n",
              "\n",
              "/* Pipeline and ColumnTransformer style (default) */\n",
              "\n",
              "#sk-container-id-1 div.sk-toggleable {\n",
              "  /* Default theme specific background. It is overwritten whether we have a\n",
              "  specific estimator or a Pipeline/ColumnTransformer */\n",
              "  background-color: var(--sklearn-color-background);\n",
              "}\n",
              "\n",
              "/* Toggleable label */\n",
              "#sk-container-id-1 label.sk-toggleable__label {\n",
              "  cursor: pointer;\n",
              "  display: block;\n",
              "  width: 100%;\n",
              "  margin-bottom: 0;\n",
              "  padding: 0.5em;\n",
              "  box-sizing: border-box;\n",
              "  text-align: center;\n",
              "}\n",
              "\n",
              "#sk-container-id-1 label.sk-toggleable__label-arrow:before {\n",
              "  /* Arrow on the left of the label */\n",
              "  content: \"▸\";\n",
              "  float: left;\n",
              "  margin-right: 0.25em;\n",
              "  color: var(--sklearn-color-icon);\n",
              "}\n",
              "\n",
              "#sk-container-id-1 label.sk-toggleable__label-arrow:hover:before {\n",
              "  color: var(--sklearn-color-text);\n",
              "}\n",
              "\n",
              "/* Toggleable content - dropdown */\n",
              "\n",
              "#sk-container-id-1 div.sk-toggleable__content {\n",
              "  max-height: 0;\n",
              "  max-width: 0;\n",
              "  overflow: hidden;\n",
              "  text-align: left;\n",
              "  /* unfitted */\n",
              "  background-color: var(--sklearn-color-unfitted-level-0);\n",
              "}\n",
              "\n",
              "#sk-container-id-1 div.sk-toggleable__content.fitted {\n",
              "  /* fitted */\n",
              "  background-color: var(--sklearn-color-fitted-level-0);\n",
              "}\n",
              "\n",
              "#sk-container-id-1 div.sk-toggleable__content pre {\n",
              "  margin: 0.2em;\n",
              "  border-radius: 0.25em;\n",
              "  color: var(--sklearn-color-text);\n",
              "  /* unfitted */\n",
              "  background-color: var(--sklearn-color-unfitted-level-0);\n",
              "}\n",
              "\n",
              "#sk-container-id-1 div.sk-toggleable__content.fitted pre {\n",
              "  /* unfitted */\n",
              "  background-color: var(--sklearn-color-fitted-level-0);\n",
              "}\n",
              "\n",
              "#sk-container-id-1 input.sk-toggleable__control:checked~div.sk-toggleable__content {\n",
              "  /* Expand drop-down */\n",
              "  max-height: 200px;\n",
              "  max-width: 100%;\n",
              "  overflow: auto;\n",
              "}\n",
              "\n",
              "#sk-container-id-1 input.sk-toggleable__control:checked~label.sk-toggleable__label-arrow:before {\n",
              "  content: \"▾\";\n",
              "}\n",
              "\n",
              "/* Pipeline/ColumnTransformer-specific style */\n",
              "\n",
              "#sk-container-id-1 div.sk-label input.sk-toggleable__control:checked~label.sk-toggleable__label {\n",
              "  color: var(--sklearn-color-text);\n",
              "  background-color: var(--sklearn-color-unfitted-level-2);\n",
              "}\n",
              "\n",
              "#sk-container-id-1 div.sk-label.fitted input.sk-toggleable__control:checked~label.sk-toggleable__label {\n",
              "  background-color: var(--sklearn-color-fitted-level-2);\n",
              "}\n",
              "\n",
              "/* Estimator-specific style */\n",
              "\n",
              "/* Colorize estimator box */\n",
              "#sk-container-id-1 div.sk-estimator input.sk-toggleable__control:checked~label.sk-toggleable__label {\n",
              "  /* unfitted */\n",
              "  background-color: var(--sklearn-color-unfitted-level-2);\n",
              "}\n",
              "\n",
              "#sk-container-id-1 div.sk-estimator.fitted input.sk-toggleable__control:checked~label.sk-toggleable__label {\n",
              "  /* fitted */\n",
              "  background-color: var(--sklearn-color-fitted-level-2);\n",
              "}\n",
              "\n",
              "#sk-container-id-1 div.sk-label label.sk-toggleable__label,\n",
              "#sk-container-id-1 div.sk-label label {\n",
              "  /* The background is the default theme color */\n",
              "  color: var(--sklearn-color-text-on-default-background);\n",
              "}\n",
              "\n",
              "/* On hover, darken the color of the background */\n",
              "#sk-container-id-1 div.sk-label:hover label.sk-toggleable__label {\n",
              "  color: var(--sklearn-color-text);\n",
              "  background-color: var(--sklearn-color-unfitted-level-2);\n",
              "}\n",
              "\n",
              "/* Label box, darken color on hover, fitted */\n",
              "#sk-container-id-1 div.sk-label.fitted:hover label.sk-toggleable__label.fitted {\n",
              "  color: var(--sklearn-color-text);\n",
              "  background-color: var(--sklearn-color-fitted-level-2);\n",
              "}\n",
              "\n",
              "/* Estimator label */\n",
              "\n",
              "#sk-container-id-1 div.sk-label label {\n",
              "  font-family: monospace;\n",
              "  font-weight: bold;\n",
              "  display: inline-block;\n",
              "  line-height: 1.2em;\n",
              "}\n",
              "\n",
              "#sk-container-id-1 div.sk-label-container {\n",
              "  text-align: center;\n",
              "}\n",
              "\n",
              "/* Estimator-specific */\n",
              "#sk-container-id-1 div.sk-estimator {\n",
              "  font-family: monospace;\n",
              "  border: 1px dotted var(--sklearn-color-border-box);\n",
              "  border-radius: 0.25em;\n",
              "  box-sizing: border-box;\n",
              "  margin-bottom: 0.5em;\n",
              "  /* unfitted */\n",
              "  background-color: var(--sklearn-color-unfitted-level-0);\n",
              "}\n",
              "\n",
              "#sk-container-id-1 div.sk-estimator.fitted {\n",
              "  /* fitted */\n",
              "  background-color: var(--sklearn-color-fitted-level-0);\n",
              "}\n",
              "\n",
              "/* on hover */\n",
              "#sk-container-id-1 div.sk-estimator:hover {\n",
              "  /* unfitted */\n",
              "  background-color: var(--sklearn-color-unfitted-level-2);\n",
              "}\n",
              "\n",
              "#sk-container-id-1 div.sk-estimator.fitted:hover {\n",
              "  /* fitted */\n",
              "  background-color: var(--sklearn-color-fitted-level-2);\n",
              "}\n",
              "\n",
              "/* Specification for estimator info (e.g. \"i\" and \"?\") */\n",
              "\n",
              "/* Common style for \"i\" and \"?\" */\n",
              "\n",
              ".sk-estimator-doc-link,\n",
              "a:link.sk-estimator-doc-link,\n",
              "a:visited.sk-estimator-doc-link {\n",
              "  float: right;\n",
              "  font-size: smaller;\n",
              "  line-height: 1em;\n",
              "  font-family: monospace;\n",
              "  background-color: var(--sklearn-color-background);\n",
              "  border-radius: 1em;\n",
              "  height: 1em;\n",
              "  width: 1em;\n",
              "  text-decoration: none !important;\n",
              "  margin-left: 1ex;\n",
              "  /* unfitted */\n",
              "  border: var(--sklearn-color-unfitted-level-1) 1pt solid;\n",
              "  color: var(--sklearn-color-unfitted-level-1);\n",
              "}\n",
              "\n",
              ".sk-estimator-doc-link.fitted,\n",
              "a:link.sk-estimator-doc-link.fitted,\n",
              "a:visited.sk-estimator-doc-link.fitted {\n",
              "  /* fitted */\n",
              "  border: var(--sklearn-color-fitted-level-1) 1pt solid;\n",
              "  color: var(--sklearn-color-fitted-level-1);\n",
              "}\n",
              "\n",
              "/* On hover */\n",
              "div.sk-estimator:hover .sk-estimator-doc-link:hover,\n",
              ".sk-estimator-doc-link:hover,\n",
              "div.sk-label-container:hover .sk-estimator-doc-link:hover,\n",
              ".sk-estimator-doc-link:hover {\n",
              "  /* unfitted */\n",
              "  background-color: var(--sklearn-color-unfitted-level-3);\n",
              "  color: var(--sklearn-color-background);\n",
              "  text-decoration: none;\n",
              "}\n",
              "\n",
              "div.sk-estimator.fitted:hover .sk-estimator-doc-link.fitted:hover,\n",
              ".sk-estimator-doc-link.fitted:hover,\n",
              "div.sk-label-container:hover .sk-estimator-doc-link.fitted:hover,\n",
              ".sk-estimator-doc-link.fitted:hover {\n",
              "  /* fitted */\n",
              "  background-color: var(--sklearn-color-fitted-level-3);\n",
              "  color: var(--sklearn-color-background);\n",
              "  text-decoration: none;\n",
              "}\n",
              "\n",
              "/* Span, style for the box shown on hovering the info icon */\n",
              ".sk-estimator-doc-link span {\n",
              "  display: none;\n",
              "  z-index: 9999;\n",
              "  position: relative;\n",
              "  font-weight: normal;\n",
              "  right: .2ex;\n",
              "  padding: .5ex;\n",
              "  margin: .5ex;\n",
              "  width: min-content;\n",
              "  min-width: 20ex;\n",
              "  max-width: 50ex;\n",
              "  color: var(--sklearn-color-text);\n",
              "  box-shadow: 2pt 2pt 4pt #999;\n",
              "  /* unfitted */\n",
              "  background: var(--sklearn-color-unfitted-level-0);\n",
              "  border: .5pt solid var(--sklearn-color-unfitted-level-3);\n",
              "}\n",
              "\n",
              ".sk-estimator-doc-link.fitted span {\n",
              "  /* fitted */\n",
              "  background: var(--sklearn-color-fitted-level-0);\n",
              "  border: var(--sklearn-color-fitted-level-3);\n",
              "}\n",
              "\n",
              ".sk-estimator-doc-link:hover span {\n",
              "  display: block;\n",
              "}\n",
              "\n",
              "/* \"?\"-specific style due to the `<a>` HTML tag */\n",
              "\n",
              "#sk-container-id-1 a.estimator_doc_link {\n",
              "  float: right;\n",
              "  font-size: 1rem;\n",
              "  line-height: 1em;\n",
              "  font-family: monospace;\n",
              "  background-color: var(--sklearn-color-background);\n",
              "  border-radius: 1rem;\n",
              "  height: 1rem;\n",
              "  width: 1rem;\n",
              "  text-decoration: none;\n",
              "  /* unfitted */\n",
              "  color: var(--sklearn-color-unfitted-level-1);\n",
              "  border: var(--sklearn-color-unfitted-level-1) 1pt solid;\n",
              "}\n",
              "\n",
              "#sk-container-id-1 a.estimator_doc_link.fitted {\n",
              "  /* fitted */\n",
              "  border: var(--sklearn-color-fitted-level-1) 1pt solid;\n",
              "  color: var(--sklearn-color-fitted-level-1);\n",
              "}\n",
              "\n",
              "/* On hover */\n",
              "#sk-container-id-1 a.estimator_doc_link:hover {\n",
              "  /* unfitted */\n",
              "  background-color: var(--sklearn-color-unfitted-level-3);\n",
              "  color: var(--sklearn-color-background);\n",
              "  text-decoration: none;\n",
              "}\n",
              "\n",
              "#sk-container-id-1 a.estimator_doc_link.fitted:hover {\n",
              "  /* fitted */\n",
              "  background-color: var(--sklearn-color-fitted-level-3);\n",
              "}\n",
              "</style><div id=\"sk-container-id-1\" class=\"sk-top-container\"><div class=\"sk-text-repr-fallback\"><pre>Pipeline(steps=[(&#x27;preprocessor&#x27;,\n",
              "                 ColumnTransformer(transformers=[(&#x27;num&#x27;,\n",
              "                                                  Pipeline(steps=[(&#x27;imputer&#x27;,\n",
              "                                                                   SimpleImputer(strategy=&#x27;median&#x27;)),\n",
              "                                                                  (&#x27;scaler&#x27;,\n",
              "                                                                   StandardScaler())]),\n",
              "                                                  Index([&#x27;potential_vs_overall&#x27;, &#x27;overall_rating&#x27;, &#x27;wage_euro&#x27;,\n",
              "       &#x27;international_reputation(1-5)&#x27;, &#x27;release_clause_euro&#x27;, &#x27;crossing&#x27;,\n",
              "       &#x27;finishing&#x27;, &#x27;heading_accuracy&#x27;, &#x27;short_passing&#x27;, &#x27;volleys&#x27;,\n",
              "       &#x27;dribbling&#x27;, &#x27;curve&#x27;, &#x27;freekick_accuracy&#x27;, &#x27;long_passing&#x27;,\n",
              "       &#x27;ball_control&#x27;],\n",
              "      dtype=&#x27;object&#x27;)),\n",
              "                                                 (&#x27;cat&#x27;,\n",
              "                                                  Pipeline(steps=[(&#x27;imputer&#x27;,\n",
              "                                                                   SimpleImputer(fill_value=-1,\n",
              "                                                                                 strategy=&#x27;constant&#x27;))]),\n",
              "                                                  [&#x27;age_bracket&#x27;])])),\n",
              "                (&#x27;regressor&#x27;, RandomForestRegressor(random_state=42))])</pre><b>In a Jupyter environment, please rerun this cell to show the HTML representation or trust the notebook. <br />On GitHub, the HTML representation is unable to render, please try loading this page with nbviewer.org.</b></div><div class=\"sk-container\" hidden><div class=\"sk-item sk-dashed-wrapped\"><div class=\"sk-label-container\"><div class=\"sk-label fitted sk-toggleable\"><input class=\"sk-toggleable__control sk-hidden--visually\" id=\"sk-estimator-id-1\" type=\"checkbox\" ><label for=\"sk-estimator-id-1\" class=\"sk-toggleable__label fitted sk-toggleable__label-arrow fitted\">&nbsp;&nbsp;Pipeline<a class=\"sk-estimator-doc-link fitted\" rel=\"noreferrer\" target=\"_blank\" href=\"https://scikit-learn.org/1.5/modules/generated/sklearn.pipeline.Pipeline.html\">?<span>Documentation for Pipeline</span></a><span class=\"sk-estimator-doc-link fitted\">i<span>Fitted</span></span></label><div class=\"sk-toggleable__content fitted\"><pre>Pipeline(steps=[(&#x27;preprocessor&#x27;,\n",
              "                 ColumnTransformer(transformers=[(&#x27;num&#x27;,\n",
              "                                                  Pipeline(steps=[(&#x27;imputer&#x27;,\n",
              "                                                                   SimpleImputer(strategy=&#x27;median&#x27;)),\n",
              "                                                                  (&#x27;scaler&#x27;,\n",
              "                                                                   StandardScaler())]),\n",
              "                                                  Index([&#x27;potential_vs_overall&#x27;, &#x27;overall_rating&#x27;, &#x27;wage_euro&#x27;,\n",
              "       &#x27;international_reputation(1-5)&#x27;, &#x27;release_clause_euro&#x27;, &#x27;crossing&#x27;,\n",
              "       &#x27;finishing&#x27;, &#x27;heading_accuracy&#x27;, &#x27;short_passing&#x27;, &#x27;volleys&#x27;,\n",
              "       &#x27;dribbling&#x27;, &#x27;curve&#x27;, &#x27;freekick_accuracy&#x27;, &#x27;long_passing&#x27;,\n",
              "       &#x27;ball_control&#x27;],\n",
              "      dtype=&#x27;object&#x27;)),\n",
              "                                                 (&#x27;cat&#x27;,\n",
              "                                                  Pipeline(steps=[(&#x27;imputer&#x27;,\n",
              "                                                                   SimpleImputer(fill_value=-1,\n",
              "                                                                                 strategy=&#x27;constant&#x27;))]),\n",
              "                                                  [&#x27;age_bracket&#x27;])])),\n",
              "                (&#x27;regressor&#x27;, RandomForestRegressor(random_state=42))])</pre></div> </div></div><div class=\"sk-serial\"><div class=\"sk-item sk-dashed-wrapped\"><div class=\"sk-label-container\"><div class=\"sk-label fitted sk-toggleable\"><input class=\"sk-toggleable__control sk-hidden--visually\" id=\"sk-estimator-id-2\" type=\"checkbox\" ><label for=\"sk-estimator-id-2\" class=\"sk-toggleable__label fitted sk-toggleable__label-arrow fitted\">&nbsp;preprocessor: ColumnTransformer<a class=\"sk-estimator-doc-link fitted\" rel=\"noreferrer\" target=\"_blank\" href=\"https://scikit-learn.org/1.5/modules/generated/sklearn.compose.ColumnTransformer.html\">?<span>Documentation for preprocessor: ColumnTransformer</span></a></label><div class=\"sk-toggleable__content fitted\"><pre>ColumnTransformer(transformers=[(&#x27;num&#x27;,\n",
              "                                 Pipeline(steps=[(&#x27;imputer&#x27;,\n",
              "                                                  SimpleImputer(strategy=&#x27;median&#x27;)),\n",
              "                                                 (&#x27;scaler&#x27;, StandardScaler())]),\n",
              "                                 Index([&#x27;potential_vs_overall&#x27;, &#x27;overall_rating&#x27;, &#x27;wage_euro&#x27;,\n",
              "       &#x27;international_reputation(1-5)&#x27;, &#x27;release_clause_euro&#x27;, &#x27;crossing&#x27;,\n",
              "       &#x27;finishing&#x27;, &#x27;heading_accuracy&#x27;, &#x27;short_passing&#x27;, &#x27;volleys&#x27;,\n",
              "       &#x27;dribbling&#x27;, &#x27;curve&#x27;, &#x27;freekick_accuracy&#x27;, &#x27;long_passing&#x27;,\n",
              "       &#x27;ball_control&#x27;],\n",
              "      dtype=&#x27;object&#x27;)),\n",
              "                                (&#x27;cat&#x27;,\n",
              "                                 Pipeline(steps=[(&#x27;imputer&#x27;,\n",
              "                                                  SimpleImputer(fill_value=-1,\n",
              "                                                                strategy=&#x27;constant&#x27;))]),\n",
              "                                 [&#x27;age_bracket&#x27;])])</pre></div> </div></div><div class=\"sk-parallel\"><div class=\"sk-parallel-item\"><div class=\"sk-item\"><div class=\"sk-label-container\"><div class=\"sk-label fitted sk-toggleable\"><input class=\"sk-toggleable__control sk-hidden--visually\" id=\"sk-estimator-id-3\" type=\"checkbox\" ><label for=\"sk-estimator-id-3\" class=\"sk-toggleable__label fitted sk-toggleable__label-arrow fitted\">num</label><div class=\"sk-toggleable__content fitted\"><pre>Index([&#x27;potential_vs_overall&#x27;, &#x27;overall_rating&#x27;, &#x27;wage_euro&#x27;,\n",
              "       &#x27;international_reputation(1-5)&#x27;, &#x27;release_clause_euro&#x27;, &#x27;crossing&#x27;,\n",
              "       &#x27;finishing&#x27;, &#x27;heading_accuracy&#x27;, &#x27;short_passing&#x27;, &#x27;volleys&#x27;,\n",
              "       &#x27;dribbling&#x27;, &#x27;curve&#x27;, &#x27;freekick_accuracy&#x27;, &#x27;long_passing&#x27;,\n",
              "       &#x27;ball_control&#x27;],\n",
              "      dtype=&#x27;object&#x27;)</pre></div> </div></div><div class=\"sk-serial\"><div class=\"sk-item\"><div class=\"sk-serial\"><div class=\"sk-item\"><div class=\"sk-estimator fitted sk-toggleable\"><input class=\"sk-toggleable__control sk-hidden--visually\" id=\"sk-estimator-id-4\" type=\"checkbox\" ><label for=\"sk-estimator-id-4\" class=\"sk-toggleable__label fitted sk-toggleable__label-arrow fitted\">&nbsp;SimpleImputer<a class=\"sk-estimator-doc-link fitted\" rel=\"noreferrer\" target=\"_blank\" href=\"https://scikit-learn.org/1.5/modules/generated/sklearn.impute.SimpleImputer.html\">?<span>Documentation for SimpleImputer</span></a></label><div class=\"sk-toggleable__content fitted\"><pre>SimpleImputer(strategy=&#x27;median&#x27;)</pre></div> </div></div><div class=\"sk-item\"><div class=\"sk-estimator fitted sk-toggleable\"><input class=\"sk-toggleable__control sk-hidden--visually\" id=\"sk-estimator-id-5\" type=\"checkbox\" ><label for=\"sk-estimator-id-5\" class=\"sk-toggleable__label fitted sk-toggleable__label-arrow fitted\">&nbsp;StandardScaler<a class=\"sk-estimator-doc-link fitted\" rel=\"noreferrer\" target=\"_blank\" href=\"https://scikit-learn.org/1.5/modules/generated/sklearn.preprocessing.StandardScaler.html\">?<span>Documentation for StandardScaler</span></a></label><div class=\"sk-toggleable__content fitted\"><pre>StandardScaler()</pre></div> </div></div></div></div></div></div></div><div class=\"sk-parallel-item\"><div class=\"sk-item\"><div class=\"sk-label-container\"><div class=\"sk-label fitted sk-toggleable\"><input class=\"sk-toggleable__control sk-hidden--visually\" id=\"sk-estimator-id-6\" type=\"checkbox\" ><label for=\"sk-estimator-id-6\" class=\"sk-toggleable__label fitted sk-toggleable__label-arrow fitted\">cat</label><div class=\"sk-toggleable__content fitted\"><pre>[&#x27;age_bracket&#x27;]</pre></div> </div></div><div class=\"sk-serial\"><div class=\"sk-item\"><div class=\"sk-serial\"><div class=\"sk-item\"><div class=\"sk-estimator fitted sk-toggleable\"><input class=\"sk-toggleable__control sk-hidden--visually\" id=\"sk-estimator-id-7\" type=\"checkbox\" ><label for=\"sk-estimator-id-7\" class=\"sk-toggleable__label fitted sk-toggleable__label-arrow fitted\">&nbsp;SimpleImputer<a class=\"sk-estimator-doc-link fitted\" rel=\"noreferrer\" target=\"_blank\" href=\"https://scikit-learn.org/1.5/modules/generated/sklearn.impute.SimpleImputer.html\">?<span>Documentation for SimpleImputer</span></a></label><div class=\"sk-toggleable__content fitted\"><pre>SimpleImputer(fill_value=-1, strategy=&#x27;constant&#x27;)</pre></div> </div></div></div></div></div></div></div></div></div><div class=\"sk-item\"><div class=\"sk-estimator fitted sk-toggleable\"><input class=\"sk-toggleable__control sk-hidden--visually\" id=\"sk-estimator-id-8\" type=\"checkbox\" ><label for=\"sk-estimator-id-8\" class=\"sk-toggleable__label fitted sk-toggleable__label-arrow fitted\">&nbsp;RandomForestRegressor<a class=\"sk-estimator-doc-link fitted\" rel=\"noreferrer\" target=\"_blank\" href=\"https://scikit-learn.org/1.5/modules/generated/sklearn.ensemble.RandomForestRegressor.html\">?<span>Documentation for RandomForestRegressor</span></a></label><div class=\"sk-toggleable__content fitted\"><pre>RandomForestRegressor(random_state=42)</pre></div> </div></div></div></div></div></div>"
            ],
            "text/plain": [
              "Pipeline(steps=[('preprocessor',\n",
              "                 ColumnTransformer(transformers=[('num',\n",
              "                                                  Pipeline(steps=[('imputer',\n",
              "                                                                   SimpleImputer(strategy='median')),\n",
              "                                                                  ('scaler',\n",
              "                                                                   StandardScaler())]),\n",
              "                                                  Index(['potential_vs_overall', 'overall_rating', 'wage_euro',\n",
              "       'international_reputation(1-5)', 'release_clause_euro', 'crossing',\n",
              "       'finishing', 'heading_accuracy', 'short_passing', 'volleys',\n",
              "       'dribbling', 'curve', 'freekick_accuracy', 'long_passing',\n",
              "       'ball_control'],\n",
              "      dtype='object')),\n",
              "                                                 ('cat',\n",
              "                                                  Pipeline(steps=[('imputer',\n",
              "                                                                   SimpleImputer(fill_value=-1,\n",
              "                                                                                 strategy='constant'))]),\n",
              "                                                  ['age_bracket'])])),\n",
              "                ('regressor', RandomForestRegressor(random_state=42))])"
            ]
          },
          "execution_count": 13,
          "metadata": {},
          "output_type": "execute_result"
        }
      ],
      "source": [
        "rf_pipeline.fit(X_train, y_train)"
      ]
    },
    {
      "cell_type": "markdown",
      "metadata": {
        "id": "c-0jOi5EYJEi"
      },
      "source": [
        "Make predictions"
      ]
    },
    {
      "cell_type": "code",
      "execution_count": null,
      "metadata": {
        "id": "vakXgRsfYJd2"
      },
      "outputs": [],
      "source": [
        "y_pred = rf_pipeline.predict(X_test)"
      ]
    },
    {
      "cell_type": "markdown",
      "metadata": {
        "id": "N3scRq5GYLmQ"
      },
      "source": [
        "Evaluate the model"
      ]
    },
    {
      "cell_type": "code",
      "execution_count": null,
      "metadata": {
        "colab": {
          "base_uri": "https://localhost:8080/"
        },
        "id": "S0FYUcmXYMkT",
        "outputId": "d464e1ac-15fc-4271-a2a2-20a5eb3746f7"
      },
      "outputs": [
        {
          "name": "stdout",
          "output_type": "stream",
          "text": [
            "Model Evaluation:\n",
            "Root Mean Squared Error (log scale): 0.1043\n",
            "R-squared Score: 0.9945\n"
          ]
        }
      ],
      "source": [
        "from sklearn.metrics import mean_squared_error, r2_score\n",
        "mse = mean_squared_error(y_test, y_pred)\n",
        "rmse = np.sqrt(mse)\n",
        "r2 = r2_score(y_test, y_pred)\n",
        "\n",
        "print(\"Model Evaluation:\")\n",
        "print(f\"Root Mean Squared Error (log scale): {rmse:.4f}\")\n",
        "print(f\"R-squared Score: {r2:.4f}\")"
      ]
    },
    {
      "cell_type": "markdown",
      "metadata": {
        "id": "wV0Nv09GYP_k"
      },
      "source": [
        "Feature importance"
      ]
    },
    {
      "cell_type": "code",
      "execution_count": null,
      "metadata": {
        "colab": {
          "base_uri": "https://localhost:8080/"
        },
        "id": "dQReb8q8YQXs",
        "outputId": "47665ff3-8385-414d-bb15-0def19f92451"
      },
      "outputs": [
        {
          "name": "stdout",
          "output_type": "stream",
          "text": [
            "\n",
            "Top 10 Most Important Features:\n",
            "                          feature  importance\n",
            "1            potential_vs_overall    0.660801\n",
            "4   international_reputation(1-5)    0.316189\n",
            "15                   ball_control    0.008965\n",
            "2                  overall_rating    0.004157\n",
            "0                     age_bracket    0.003900\n",
            "6                        crossing    0.001397\n",
            "9                   short_passing    0.000667\n",
            "10                        volleys    0.000575\n",
            "14                   long_passing    0.000522\n",
            "13              freekick_accuracy    0.000521\n"
          ]
        }
      ],
      "source": [
        "feature_importance = pd.DataFrame({'feature': features,\n",
        "                                   'importance': rf_pipeline.named_steps['regressor'].feature_importances_})\n",
        "feature_importance = feature_importance.sort_values('importance', ascending=False)\n",
        "print(\"\\nTop 10 Most Important Features:\")\n",
        "print(feature_importance.head(10))"
      ]
    },
    {
      "cell_type": "markdown",
      "metadata": {
        "id": "ngXlBG3xYSgg"
      },
      "source": [
        "Example prediction"
      ]
    },
    {
      "cell_type": "code",
      "execution_count": null,
      "metadata": {
        "colab": {
          "base_uri": "https://localhost:8080/"
        },
        "id": "-wk8vjfgYUUK",
        "outputId": "ae08424d-075d-42b8-e6c9-49af005fca05"
      },
      "outputs": [
        {
          "name": "stdout",
          "output_type": "stream",
          "text": [
            "\n",
            "Example Prediction:\n",
            "Predicted Value: 430202.73 euros\n",
            "Actual Value: 425000.00 euros\n"
          ]
        }
      ],
      "source": [
        "example_player = X_test.iloc[0:1]\n",
        "predicted_value = np.expm1(rf_pipeline.predict(example_player)[0])\n",
        "actual_value = np.expm1(y_test.iloc[0])\n",
        "\n",
        "print(\"\\nExample Prediction:\")\n",
        "print(f\"Predicted Value: {predicted_value:.2f} euros\")\n",
        "print(f\"Actual Value: {actual_value:.2f} euros\")"
      ]
    },
    {
      "cell_type": "markdown",
      "metadata": {
        "id": "1Fi3iedEYWML"
      },
      "source": [
        "Print feature values for the example player"
      ]
    },
    {
      "cell_type": "code",
      "execution_count": null,
      "metadata": {
        "colab": {
          "base_uri": "https://localhost:8080/"
        },
        "id": "2gBZN3IeYW3U",
        "outputId": "fdb63997-ee85-4404-c17a-fa5a0c2366dc"
      },
      "outputs": [
        {
          "name": "stdout",
          "output_type": "stream",
          "text": [
            "\n",
            "Feature values for the example player:\n",
            "age_bracket: 2.00\n",
            "potential_vs_overall: 0.00\n",
            "overall_rating: 64.00\n",
            "wage_euro: 2000.00\n",
            "international_reputation(1-5): 1.00\n",
            "release_clause_euro: 744000.00\n",
            "crossing: 65.00\n",
            "finishing: 63.00\n",
            "heading_accuracy: 67.00\n",
            "short_passing: 58.00\n",
            "volleys: 65.00\n",
            "dribbling: 60.00\n",
            "curve: 66.00\n",
            "freekick_accuracy: 62.00\n",
            "long_passing: 53.00\n",
            "ball_control: 63.00\n"
          ]
        }
      ],
      "source": [
        "print(\"\\nFeature values for the example player:\")\n",
        "for feature, value in example_player.iloc[0].items():\n",
        "    print(f\"{feature}: {value:.2f}\")"
      ]
    },
    {
      "cell_type": "markdown",
      "metadata": {
        "id": "IswZlFPRBnZY"
      },
      "source": [
        "Predict the value_euro using a Knn regressor\n"
      ]
    },
    {
      "cell_type": "code",
      "execution_count": null,
      "metadata": {
        "colab": {
          "base_uri": "https://localhost:8080/"
        },
        "id": "m2Kp_ug6BoGm",
        "outputId": "52a69e46-0a32-44ea-aff8-590213ebc7e4"
      },
      "outputs": [
        {
          "name": "stdout",
          "output_type": "stream",
          "text": [
            "\n",
            "KNN Model Evaluation:\n",
            "Root Mean Squared Error (log scale): 0.3352\n",
            "R-squared Score: 0.9435\n"
          ]
        }
      ],
      "source": [
        "# prompt: Predict the value_euro using a Knn regressor\n",
        "\n",
        "from sklearn.neighbors import KNeighborsRegressor\n",
        "\n",
        "# Create a pipeline with preprocessor and KNN regressor\n",
        "knn_pipeline = Pipeline([\n",
        "    ('preprocessor', preprocessor),\n",
        "    ('regressor', KNeighborsRegressor(n_neighbors=5))  # You can adjust n_neighbors\n",
        "])\n",
        "\n",
        "# Fit the pipeline\n",
        "knn_pipeline.fit(X_train, y_train)\n",
        "\n",
        "# Make predictions\n",
        "y_pred_knn = knn_pipeline.predict(X_test)\n",
        "\n",
        "# Evaluate the model\n",
        "mse_knn = mean_squared_error(y_test, y_pred_knn)\n",
        "rmse_knn = np.sqrt(mse_knn)\n",
        "r2_knn = r2_score(y_test, y_pred_knn)\n",
        "\n",
        "print(\"\\nKNN Model Evaluation:\")\n",
        "print(f\"Root Mean Squared Error (log scale): {rmse_knn:.4f}\")\n",
        "print(f\"R-squared Score: {r2_knn:.4f}\")\n"
      ]
    },
    {
      "cell_type": "markdown",
      "metadata": {
        "id": "Oh2QLbNKYxvY"
      },
      "source": [
        "Example prediction"
      ]
    },
    {
      "cell_type": "code",
      "execution_count": null,
      "metadata": {
        "colab": {
          "base_uri": "https://localhost:8080/"
        },
        "id": "lLj-oyskY27S",
        "outputId": "b9896ff2-71a6-4e00-a3a8-31ed3a481439"
      },
      "outputs": [
        {
          "name": "stdout",
          "output_type": "stream",
          "text": [
            "\n",
            "KNN Example Prediction:\n",
            "Predicted Value: 483981.90 euros\n",
            "Actual Value: 425000.00 euros\n"
          ]
        }
      ],
      "source": [
        "# prompt: Example prediction\n",
        "\n",
        "# Example prediction for KNN\n",
        "example_player_knn = X_test.iloc[0:1]\n",
        "predicted_value_knn = np.expm1(knn_pipeline.predict(example_player_knn)[0])\n",
        "actual_value_knn = np.expm1(y_test.iloc[0])\n",
        "\n",
        "print(\"\\nKNN Example Prediction:\")\n",
        "print(f\"Predicted Value: {predicted_value_knn:.2f} euros\")\n",
        "print(f\"Actual Value: {actual_value_knn:.2f} euros\")\n"
      ]
    },
    {
      "cell_type": "markdown",
      "metadata": {
        "id": "F8_d7faHaKH-"
      },
      "source": [
        "Prdecit the value_euro with Support Vector Regression (SVR)"
      ]
    },
    {
      "cell_type": "code",
      "execution_count": null,
      "metadata": {
        "colab": {
          "base_uri": "https://localhost:8080/"
        },
        "id": "HzYN5X_GaPwy",
        "outputId": "07f6dc0c-5b74-44de-96d8-e61193907450"
      },
      "outputs": [
        {
          "name": "stdout",
          "output_type": "stream",
          "text": [
            "\n",
            "SVR Model Evaluation:\n",
            "Root Mean Squared Error (log scale): 0.2335\n",
            "R-squared Score: 0.9726\n",
            "\n",
            "SVR Example Prediction:\n",
            "Predicted Value: 372116.10 euros\n",
            "Actual Value: 425000.00 euros\n"
          ]
        }
      ],
      "source": [
        "# prompt: Prdecit the value_euro with Support Vector Regression (SVR)\n",
        "\n",
        "from sklearn.svm import SVR\n",
        "\n",
        "# Create a pipeline with preprocessor and SVR\n",
        "svr_pipeline = Pipeline([\n",
        "    ('preprocessor', preprocessor),\n",
        "    ('regressor', SVR(kernel='rbf'))  # You can try different kernels\n",
        "])\n",
        "\n",
        "# Fit the pipeline\n",
        "svr_pipeline.fit(X_train, y_train)\n",
        "\n",
        "# Make predictions\n",
        "y_pred_svr = svr_pipeline.predict(X_test)\n",
        "\n",
        "# Evaluate the model\n",
        "mse_svr = mean_squared_error(y_test, y_pred_svr)\n",
        "rmse_svr = np.sqrt(mse_svr)\n",
        "r2_svr = r2_score(y_test, y_pred_svr)\n",
        "\n",
        "print(\"\\nSVR Model Evaluation:\")\n",
        "print(f\"Root Mean Squared Error (log scale): {rmse_svr:.4f}\")\n",
        "print(f\"R-squared Score: {r2_svr:.4f}\")\n",
        "\n",
        "# Example prediction for SVR\n",
        "example_player_svr = X_test.iloc[0:1]\n",
        "predicted_value_svr = np.expm1(svr_pipeline.predict(example_player_svr)[0])\n",
        "actual_value_svr = np.expm1(y_test.iloc[0])\n",
        "\n",
        "print(\"\\nSVR Example Prediction:\")\n",
        "print(f\"Predicted Value: {predicted_value_svr:.2f} euros\")\n",
        "print(f\"Actual Value: {actual_value_svr:.2f} euros\")\n"
      ]
    },
    {
      "cell_type": "markdown",
      "metadata": {
        "id": "7A2CA1VHb_8C"
      },
      "source": [
        "Predict the value_euro with Linear Regression"
      ]
    },
    {
      "cell_type": "code",
      "execution_count": null,
      "metadata": {
        "colab": {
          "base_uri": "https://localhost:8080/"
        },
        "id": "-G-PMpEWb5JE",
        "outputId": "f2d30a94-d3f6-4382-a005-4ba0bf3d9d15"
      },
      "outputs": [
        {
          "name": "stdout",
          "output_type": "stream",
          "text": [
            "\n",
            "Linear Regression Model Evaluation:\n",
            "Root Mean Squared Error (log scale): 0.2984\n",
            "R-squared Score: 0.9552\n",
            "\n",
            "Linear Regression Example Prediction:\n",
            "Predicted Value: 370114.09 euros\n",
            "Actual Value: 425000.00 euros\n"
          ]
        }
      ],
      "source": [
        "# prompt: Predict the value_euro with Linear Regression\n",
        "\n",
        "from sklearn.linear_model import LinearRegression\n",
        "\n",
        "# Create a pipeline with preprocessor and Linear Regression\n",
        "lr_pipeline = Pipeline([\n",
        "    ('preprocessor', preprocessor),\n",
        "    ('regressor', LinearRegression())\n",
        "])\n",
        "\n",
        "# Fit the pipeline\n",
        "lr_pipeline.fit(X_train, y_train)\n",
        "\n",
        "# Make predictions\n",
        "y_pred_lr = lr_pipeline.predict(X_test)\n",
        "\n",
        "# Evaluate the model\n",
        "mse_lr = mean_squared_error(y_test, y_pred_lr)\n",
        "rmse_lr = np.sqrt(mse_lr)\n",
        "r2_lr = r2_score(y_test, y_pred_lr)\n",
        "\n",
        "print(\"\\nLinear Regression Model Evaluation:\")\n",
        "print(f\"Root Mean Squared Error (log scale): {rmse_lr:.4f}\")\n",
        "print(f\"R-squared Score: {r2_lr:.4f}\")\n",
        "\n",
        "# Example prediction for Linear Regression\n",
        "example_player_lr = X_test.iloc[0:1]\n",
        "predicted_value_lr = np.expm1(lr_pipeline.predict(example_player_lr)[0])\n",
        "actual_value_lr = np.expm1(y_test.iloc[0])\n",
        "\n",
        "print(\"\\nLinear Regression Example Prediction:\")\n",
        "print(f\"Predicted Value: {predicted_value_lr:.2f} euros\")\n",
        "print(f\"Actual Value: {actual_value_lr:.2f} euros\")\n"
      ]
    },
    {
      "cell_type": "markdown",
      "metadata": {
        "id": "VB63DVgscPyS"
      },
      "source": [
        "Predict the value_euro with Decistion Tree"
      ]
    },
    {
      "cell_type": "code",
      "execution_count": null,
      "metadata": {
        "colab": {
          "base_uri": "https://localhost:8080/"
        },
        "id": "cfOGtZjHcUx-",
        "outputId": "47ca0199-ee8a-4cd0-8ed9-6e0d9e85dda2"
      },
      "outputs": [
        {
          "name": "stdout",
          "output_type": "stream",
          "text": [
            "\n",
            "Decision Tree Model Evaluation:\n",
            "Root Mean Squared Error (log scale): 0.1511\n",
            "R-squared Score: 0.9885\n",
            "\n",
            "Decision Tree Example Prediction:\n",
            "Predicted Value: 425000.00 euros\n",
            "Actual Value: 425000.00 euros\n"
          ]
        }
      ],
      "source": [
        "# prompt: Predict the value_euro with Decistion Tree\n",
        "\n",
        "from sklearn.tree import DecisionTreeRegressor\n",
        "\n",
        "# Create a pipeline with preprocessor and Decision Tree\n",
        "dt_pipeline = Pipeline([\n",
        "    ('preprocessor', preprocessor),\n",
        "    ('regressor', DecisionTreeRegressor(random_state=42))  # You can adjust hyperparameters\n",
        "])\n",
        "\n",
        "# Fit the pipeline\n",
        "dt_pipeline.fit(X_train, y_train)\n",
        "\n",
        "# Make predictions\n",
        "y_pred_dt = dt_pipeline.predict(X_test)\n",
        "\n",
        "# Evaluate the model\n",
        "mse_dt = mean_squared_error(y_test, y_pred_dt)\n",
        "rmse_dt = np.sqrt(mse_dt)\n",
        "r2_dt = r2_score(y_test, y_pred_dt)\n",
        "\n",
        "print(\"\\nDecision Tree Model Evaluation:\")\n",
        "print(f\"Root Mean Squared Error (log scale): {rmse_dt:.4f}\")\n",
        "print(f\"R-squared Score: {r2_dt:.4f}\")\n",
        "\n",
        "# Example prediction for Decision Tree\n",
        "example_player_dt = X_test.iloc[0:1]\n",
        "predicted_value_dt = np.expm1(dt_pipeline.predict(example_player_dt)[0])\n",
        "actual_value_dt = np.expm1(y_test.iloc[0])\n",
        "\n",
        "print(\"\\nDecision Tree Example Prediction:\")\n",
        "print(f\"Predicted Value: {predicted_value_dt:.2f} euros\")\n",
        "print(f\"Actual Value: {actual_value_dt:.2f} euros\")\n"
      ]
    },
    {
      "cell_type": "markdown",
      "metadata": {
        "id": "0kEGcCf8YrY-"
      },
      "source": [
        "## **2. Predict value_euro**"
      ]
    },
    {
      "cell_type": "markdown",
      "metadata": {
        "id": "7ko61qfBYwWW"
      },
      "source": [
        "Load the data to new variables."
      ]
    },
    {
      "cell_type": "code",
      "execution_count": null,
      "metadata": {
        "colab": {
          "base_uri": "https://localhost:8080/"
        },
        "id": "GhscI7ulYxjw",
        "outputId": "c1a080ea-365d-4033-8906-7e1ddbe1976d"
      },
      "outputs": [
        {
          "data": {
            "text/plain": [
              "Index(['name', 'full_name', 'birth_date', 'age', 'height_cm', 'weight_kgs',\n",
              "       'positions', 'nationality', 'overall_rating', 'potential', 'value_euro',\n",
              "       'wage_euro', 'preferred_foot', 'international_reputation(1-5)',\n",
              "       'weak_foot(1-5)', 'skill_moves(1-5)', 'body_type',\n",
              "       'release_clause_euro', 'national_team', 'national_rating',\n",
              "       'national_team_position', 'national_jersey_number', 'crossing',\n",
              "       'finishing', 'heading_accuracy', 'short_passing', 'volleys',\n",
              "       'dribbling', 'curve', 'freekick_accuracy', 'long_passing',\n",
              "       'ball_control', 'acceleration', 'sprint_speed', 'agility', 'reactions',\n",
              "       'balance', 'shot_power', 'jumping', 'stamina', 'strength', 'long_shots',\n",
              "       'aggression', 'interceptions', 'positioning', 'vision', 'penalties',\n",
              "       'composure', 'marking', 'standing_tackle', 'sliding_tackle',\n",
              "       'value_million_euro', 'age_bracket', 'potential_vs_overall'],\n",
              "      dtype='object')"
            ]
          },
          "execution_count": 24,
          "metadata": {},
          "output_type": "execute_result"
        }
      ],
      "source": [
        "df2 = df.copy()\n",
        "df2.head()\n",
        "df2.columns"
      ]
    },
    {
      "cell_type": "markdown",
      "metadata": {
        "id": "MhuCyFOqYzel"
      },
      "source": [
        "Prepare the data"
      ]
    },
    {
      "cell_type": "code",
      "execution_count": null,
      "metadata": {
        "id": "93AebhZSY0p8"
      },
      "outputs": [],
      "source": [
        "from sklearn.feature_selection import SelectKBest, f_classif\n",
        "\n",
        "features = ['age', 'overall_rating', 'potential', 'wage_euro', 'crossing',\n",
        "       'finishing', 'heading_accuracy', 'short_passing', 'volleys',\n",
        "       'dribbling', 'curve', 'freekick_accuracy', 'long_passing',\n",
        "       'ball_control', 'acceleration', 'sprint_speed', 'agility', 'reactions',\n",
        "       'balance', 'shot_power', 'jumping', 'stamina', 'strength', 'long_shots',\n",
        "       'aggression', 'interceptions', 'positioning', 'vision', 'penalties',\n",
        "       'composure', 'marking', 'standing_tackle', 'sliding_tackle']\n",
        "\n",
        "target = ['value_euro']\n",
        "\n",
        "#Handle missing values\n",
        "df2 = df.dropna(subset=features + target)\n",
        "\n",
        "#Categorizing the value_euro\n",
        "bins = [0, 1e6, 5e6, 10e6, 50e6, np.inf]\n",
        "labels = ['Very Low', 'Low', 'Medium', 'High', 'Very High']\n",
        "X2 = df2[features]\n",
        "y2 = df2[target]\n",
        "y2_categorial = pd.cut(y2['value_euro'], bins=bins, labels=labels)\n",
        "\n",
        "#Select the best 10 features to minimize features\n",
        "selector = SelectKBest(f_classif, k=10)\n",
        "X2_selected = selector.fit_transform(X2, y2_categorial)\n",
        "selected_features = X2.columns[selector.get_support()].tolist()\n",
        "\n",
        "X2_train_selected, X2_test_selected, y2_train, y2_test = train_test_split(X2_selected, y2_categorial, test_size=0.2, random_state=1)"
      ]
    },
    {
      "cell_type": "markdown",
      "metadata": {
        "id": "9K7BCk_bY3eZ"
      },
      "source": [
        "Create a decision tree classifier using sklearn package and train a model based on the training set."
      ]
    },
    {
      "cell_type": "code",
      "execution_count": null,
      "metadata": {
        "colab": {
          "base_uri": "https://localhost:8080/",
          "height": 80
        },
        "id": "hVZDJIsCY48c",
        "outputId": "4fc8503d-9af1-443b-a6b7-5b7c814ec50e"
      },
      "outputs": [
        {
          "data": {
            "text/html": [
              "<style>#sk-container-id-2 {\n",
              "  /* Definition of color scheme common for light and dark mode */\n",
              "  --sklearn-color-text: black;\n",
              "  --sklearn-color-line: gray;\n",
              "  /* Definition of color scheme for unfitted estimators */\n",
              "  --sklearn-color-unfitted-level-0: #fff5e6;\n",
              "  --sklearn-color-unfitted-level-1: #f6e4d2;\n",
              "  --sklearn-color-unfitted-level-2: #ffe0b3;\n",
              "  --sklearn-color-unfitted-level-3: chocolate;\n",
              "  /* Definition of color scheme for fitted estimators */\n",
              "  --sklearn-color-fitted-level-0: #f0f8ff;\n",
              "  --sklearn-color-fitted-level-1: #d4ebff;\n",
              "  --sklearn-color-fitted-level-2: #b3dbfd;\n",
              "  --sklearn-color-fitted-level-3: cornflowerblue;\n",
              "\n",
              "  /* Specific color for light theme */\n",
              "  --sklearn-color-text-on-default-background: var(--sg-text-color, var(--theme-code-foreground, var(--jp-content-font-color1, black)));\n",
              "  --sklearn-color-background: var(--sg-background-color, var(--theme-background, var(--jp-layout-color0, white)));\n",
              "  --sklearn-color-border-box: var(--sg-text-color, var(--theme-code-foreground, var(--jp-content-font-color1, black)));\n",
              "  --sklearn-color-icon: #696969;\n",
              "\n",
              "  @media (prefers-color-scheme: dark) {\n",
              "    /* Redefinition of color scheme for dark theme */\n",
              "    --sklearn-color-text-on-default-background: var(--sg-text-color, var(--theme-code-foreground, var(--jp-content-font-color1, white)));\n",
              "    --sklearn-color-background: var(--sg-background-color, var(--theme-background, var(--jp-layout-color0, #111)));\n",
              "    --sklearn-color-border-box: var(--sg-text-color, var(--theme-code-foreground, var(--jp-content-font-color1, white)));\n",
              "    --sklearn-color-icon: #878787;\n",
              "  }\n",
              "}\n",
              "\n",
              "#sk-container-id-2 {\n",
              "  color: var(--sklearn-color-text);\n",
              "}\n",
              "\n",
              "#sk-container-id-2 pre {\n",
              "  padding: 0;\n",
              "}\n",
              "\n",
              "#sk-container-id-2 input.sk-hidden--visually {\n",
              "  border: 0;\n",
              "  clip: rect(1px 1px 1px 1px);\n",
              "  clip: rect(1px, 1px, 1px, 1px);\n",
              "  height: 1px;\n",
              "  margin: -1px;\n",
              "  overflow: hidden;\n",
              "  padding: 0;\n",
              "  position: absolute;\n",
              "  width: 1px;\n",
              "}\n",
              "\n",
              "#sk-container-id-2 div.sk-dashed-wrapped {\n",
              "  border: 1px dashed var(--sklearn-color-line);\n",
              "  margin: 0 0.4em 0.5em 0.4em;\n",
              "  box-sizing: border-box;\n",
              "  padding-bottom: 0.4em;\n",
              "  background-color: var(--sklearn-color-background);\n",
              "}\n",
              "\n",
              "#sk-container-id-2 div.sk-container {\n",
              "  /* jupyter's `normalize.less` sets `[hidden] { display: none; }`\n",
              "     but bootstrap.min.css set `[hidden] { display: none !important; }`\n",
              "     so we also need the `!important` here to be able to override the\n",
              "     default hidden behavior on the sphinx rendered scikit-learn.org.\n",
              "     See: https://github.com/scikit-learn/scikit-learn/issues/21755 */\n",
              "  display: inline-block !important;\n",
              "  position: relative;\n",
              "}\n",
              "\n",
              "#sk-container-id-2 div.sk-text-repr-fallback {\n",
              "  display: none;\n",
              "}\n",
              "\n",
              "div.sk-parallel-item,\n",
              "div.sk-serial,\n",
              "div.sk-item {\n",
              "  /* draw centered vertical line to link estimators */\n",
              "  background-image: linear-gradient(var(--sklearn-color-text-on-default-background), var(--sklearn-color-text-on-default-background));\n",
              "  background-size: 2px 100%;\n",
              "  background-repeat: no-repeat;\n",
              "  background-position: center center;\n",
              "}\n",
              "\n",
              "/* Parallel-specific style estimator block */\n",
              "\n",
              "#sk-container-id-2 div.sk-parallel-item::after {\n",
              "  content: \"\";\n",
              "  width: 100%;\n",
              "  border-bottom: 2px solid var(--sklearn-color-text-on-default-background);\n",
              "  flex-grow: 1;\n",
              "}\n",
              "\n",
              "#sk-container-id-2 div.sk-parallel {\n",
              "  display: flex;\n",
              "  align-items: stretch;\n",
              "  justify-content: center;\n",
              "  background-color: var(--sklearn-color-background);\n",
              "  position: relative;\n",
              "}\n",
              "\n",
              "#sk-container-id-2 div.sk-parallel-item {\n",
              "  display: flex;\n",
              "  flex-direction: column;\n",
              "}\n",
              "\n",
              "#sk-container-id-2 div.sk-parallel-item:first-child::after {\n",
              "  align-self: flex-end;\n",
              "  width: 50%;\n",
              "}\n",
              "\n",
              "#sk-container-id-2 div.sk-parallel-item:last-child::after {\n",
              "  align-self: flex-start;\n",
              "  width: 50%;\n",
              "}\n",
              "\n",
              "#sk-container-id-2 div.sk-parallel-item:only-child::after {\n",
              "  width: 0;\n",
              "}\n",
              "\n",
              "/* Serial-specific style estimator block */\n",
              "\n",
              "#sk-container-id-2 div.sk-serial {\n",
              "  display: flex;\n",
              "  flex-direction: column;\n",
              "  align-items: center;\n",
              "  background-color: var(--sklearn-color-background);\n",
              "  padding-right: 1em;\n",
              "  padding-left: 1em;\n",
              "}\n",
              "\n",
              "\n",
              "/* Toggleable style: style used for estimator/Pipeline/ColumnTransformer box that is\n",
              "clickable and can be expanded/collapsed.\n",
              "- Pipeline and ColumnTransformer use this feature and define the default style\n",
              "- Estimators will overwrite some part of the style using the `sk-estimator` class\n",
              "*/\n",
              "\n",
              "/* Pipeline and ColumnTransformer style (default) */\n",
              "\n",
              "#sk-container-id-2 div.sk-toggleable {\n",
              "  /* Default theme specific background. It is overwritten whether we have a\n",
              "  specific estimator or a Pipeline/ColumnTransformer */\n",
              "  background-color: var(--sklearn-color-background);\n",
              "}\n",
              "\n",
              "/* Toggleable label */\n",
              "#sk-container-id-2 label.sk-toggleable__label {\n",
              "  cursor: pointer;\n",
              "  display: block;\n",
              "  width: 100%;\n",
              "  margin-bottom: 0;\n",
              "  padding: 0.5em;\n",
              "  box-sizing: border-box;\n",
              "  text-align: center;\n",
              "}\n",
              "\n",
              "#sk-container-id-2 label.sk-toggleable__label-arrow:before {\n",
              "  /* Arrow on the left of the label */\n",
              "  content: \"▸\";\n",
              "  float: left;\n",
              "  margin-right: 0.25em;\n",
              "  color: var(--sklearn-color-icon);\n",
              "}\n",
              "\n",
              "#sk-container-id-2 label.sk-toggleable__label-arrow:hover:before {\n",
              "  color: var(--sklearn-color-text);\n",
              "}\n",
              "\n",
              "/* Toggleable content - dropdown */\n",
              "\n",
              "#sk-container-id-2 div.sk-toggleable__content {\n",
              "  max-height: 0;\n",
              "  max-width: 0;\n",
              "  overflow: hidden;\n",
              "  text-align: left;\n",
              "  /* unfitted */\n",
              "  background-color: var(--sklearn-color-unfitted-level-0);\n",
              "}\n",
              "\n",
              "#sk-container-id-2 div.sk-toggleable__content.fitted {\n",
              "  /* fitted */\n",
              "  background-color: var(--sklearn-color-fitted-level-0);\n",
              "}\n",
              "\n",
              "#sk-container-id-2 div.sk-toggleable__content pre {\n",
              "  margin: 0.2em;\n",
              "  border-radius: 0.25em;\n",
              "  color: var(--sklearn-color-text);\n",
              "  /* unfitted */\n",
              "  background-color: var(--sklearn-color-unfitted-level-0);\n",
              "}\n",
              "\n",
              "#sk-container-id-2 div.sk-toggleable__content.fitted pre {\n",
              "  /* unfitted */\n",
              "  background-color: var(--sklearn-color-fitted-level-0);\n",
              "}\n",
              "\n",
              "#sk-container-id-2 input.sk-toggleable__control:checked~div.sk-toggleable__content {\n",
              "  /* Expand drop-down */\n",
              "  max-height: 200px;\n",
              "  max-width: 100%;\n",
              "  overflow: auto;\n",
              "}\n",
              "\n",
              "#sk-container-id-2 input.sk-toggleable__control:checked~label.sk-toggleable__label-arrow:before {\n",
              "  content: \"▾\";\n",
              "}\n",
              "\n",
              "/* Pipeline/ColumnTransformer-specific style */\n",
              "\n",
              "#sk-container-id-2 div.sk-label input.sk-toggleable__control:checked~label.sk-toggleable__label {\n",
              "  color: var(--sklearn-color-text);\n",
              "  background-color: var(--sklearn-color-unfitted-level-2);\n",
              "}\n",
              "\n",
              "#sk-container-id-2 div.sk-label.fitted input.sk-toggleable__control:checked~label.sk-toggleable__label {\n",
              "  background-color: var(--sklearn-color-fitted-level-2);\n",
              "}\n",
              "\n",
              "/* Estimator-specific style */\n",
              "\n",
              "/* Colorize estimator box */\n",
              "#sk-container-id-2 div.sk-estimator input.sk-toggleable__control:checked~label.sk-toggleable__label {\n",
              "  /* unfitted */\n",
              "  background-color: var(--sklearn-color-unfitted-level-2);\n",
              "}\n",
              "\n",
              "#sk-container-id-2 div.sk-estimator.fitted input.sk-toggleable__control:checked~label.sk-toggleable__label {\n",
              "  /* fitted */\n",
              "  background-color: var(--sklearn-color-fitted-level-2);\n",
              "}\n",
              "\n",
              "#sk-container-id-2 div.sk-label label.sk-toggleable__label,\n",
              "#sk-container-id-2 div.sk-label label {\n",
              "  /* The background is the default theme color */\n",
              "  color: var(--sklearn-color-text-on-default-background);\n",
              "}\n",
              "\n",
              "/* On hover, darken the color of the background */\n",
              "#sk-container-id-2 div.sk-label:hover label.sk-toggleable__label {\n",
              "  color: var(--sklearn-color-text);\n",
              "  background-color: var(--sklearn-color-unfitted-level-2);\n",
              "}\n",
              "\n",
              "/* Label box, darken color on hover, fitted */\n",
              "#sk-container-id-2 div.sk-label.fitted:hover label.sk-toggleable__label.fitted {\n",
              "  color: var(--sklearn-color-text);\n",
              "  background-color: var(--sklearn-color-fitted-level-2);\n",
              "}\n",
              "\n",
              "/* Estimator label */\n",
              "\n",
              "#sk-container-id-2 div.sk-label label {\n",
              "  font-family: monospace;\n",
              "  font-weight: bold;\n",
              "  display: inline-block;\n",
              "  line-height: 1.2em;\n",
              "}\n",
              "\n",
              "#sk-container-id-2 div.sk-label-container {\n",
              "  text-align: center;\n",
              "}\n",
              "\n",
              "/* Estimator-specific */\n",
              "#sk-container-id-2 div.sk-estimator {\n",
              "  font-family: monospace;\n",
              "  border: 1px dotted var(--sklearn-color-border-box);\n",
              "  border-radius: 0.25em;\n",
              "  box-sizing: border-box;\n",
              "  margin-bottom: 0.5em;\n",
              "  /* unfitted */\n",
              "  background-color: var(--sklearn-color-unfitted-level-0);\n",
              "}\n",
              "\n",
              "#sk-container-id-2 div.sk-estimator.fitted {\n",
              "  /* fitted */\n",
              "  background-color: var(--sklearn-color-fitted-level-0);\n",
              "}\n",
              "\n",
              "/* on hover */\n",
              "#sk-container-id-2 div.sk-estimator:hover {\n",
              "  /* unfitted */\n",
              "  background-color: var(--sklearn-color-unfitted-level-2);\n",
              "}\n",
              "\n",
              "#sk-container-id-2 div.sk-estimator.fitted:hover {\n",
              "  /* fitted */\n",
              "  background-color: var(--sklearn-color-fitted-level-2);\n",
              "}\n",
              "\n",
              "/* Specification for estimator info (e.g. \"i\" and \"?\") */\n",
              "\n",
              "/* Common style for \"i\" and \"?\" */\n",
              "\n",
              ".sk-estimator-doc-link,\n",
              "a:link.sk-estimator-doc-link,\n",
              "a:visited.sk-estimator-doc-link {\n",
              "  float: right;\n",
              "  font-size: smaller;\n",
              "  line-height: 1em;\n",
              "  font-family: monospace;\n",
              "  background-color: var(--sklearn-color-background);\n",
              "  border-radius: 1em;\n",
              "  height: 1em;\n",
              "  width: 1em;\n",
              "  text-decoration: none !important;\n",
              "  margin-left: 1ex;\n",
              "  /* unfitted */\n",
              "  border: var(--sklearn-color-unfitted-level-1) 1pt solid;\n",
              "  color: var(--sklearn-color-unfitted-level-1);\n",
              "}\n",
              "\n",
              ".sk-estimator-doc-link.fitted,\n",
              "a:link.sk-estimator-doc-link.fitted,\n",
              "a:visited.sk-estimator-doc-link.fitted {\n",
              "  /* fitted */\n",
              "  border: var(--sklearn-color-fitted-level-1) 1pt solid;\n",
              "  color: var(--sklearn-color-fitted-level-1);\n",
              "}\n",
              "\n",
              "/* On hover */\n",
              "div.sk-estimator:hover .sk-estimator-doc-link:hover,\n",
              ".sk-estimator-doc-link:hover,\n",
              "div.sk-label-container:hover .sk-estimator-doc-link:hover,\n",
              ".sk-estimator-doc-link:hover {\n",
              "  /* unfitted */\n",
              "  background-color: var(--sklearn-color-unfitted-level-3);\n",
              "  color: var(--sklearn-color-background);\n",
              "  text-decoration: none;\n",
              "}\n",
              "\n",
              "div.sk-estimator.fitted:hover .sk-estimator-doc-link.fitted:hover,\n",
              ".sk-estimator-doc-link.fitted:hover,\n",
              "div.sk-label-container:hover .sk-estimator-doc-link.fitted:hover,\n",
              ".sk-estimator-doc-link.fitted:hover {\n",
              "  /* fitted */\n",
              "  background-color: var(--sklearn-color-fitted-level-3);\n",
              "  color: var(--sklearn-color-background);\n",
              "  text-decoration: none;\n",
              "}\n",
              "\n",
              "/* Span, style for the box shown on hovering the info icon */\n",
              ".sk-estimator-doc-link span {\n",
              "  display: none;\n",
              "  z-index: 9999;\n",
              "  position: relative;\n",
              "  font-weight: normal;\n",
              "  right: .2ex;\n",
              "  padding: .5ex;\n",
              "  margin: .5ex;\n",
              "  width: min-content;\n",
              "  min-width: 20ex;\n",
              "  max-width: 50ex;\n",
              "  color: var(--sklearn-color-text);\n",
              "  box-shadow: 2pt 2pt 4pt #999;\n",
              "  /* unfitted */\n",
              "  background: var(--sklearn-color-unfitted-level-0);\n",
              "  border: .5pt solid var(--sklearn-color-unfitted-level-3);\n",
              "}\n",
              "\n",
              ".sk-estimator-doc-link.fitted span {\n",
              "  /* fitted */\n",
              "  background: var(--sklearn-color-fitted-level-0);\n",
              "  border: var(--sklearn-color-fitted-level-3);\n",
              "}\n",
              "\n",
              ".sk-estimator-doc-link:hover span {\n",
              "  display: block;\n",
              "}\n",
              "\n",
              "/* \"?\"-specific style due to the `<a>` HTML tag */\n",
              "\n",
              "#sk-container-id-2 a.estimator_doc_link {\n",
              "  float: right;\n",
              "  font-size: 1rem;\n",
              "  line-height: 1em;\n",
              "  font-family: monospace;\n",
              "  background-color: var(--sklearn-color-background);\n",
              "  border-radius: 1rem;\n",
              "  height: 1rem;\n",
              "  width: 1rem;\n",
              "  text-decoration: none;\n",
              "  /* unfitted */\n",
              "  color: var(--sklearn-color-unfitted-level-1);\n",
              "  border: var(--sklearn-color-unfitted-level-1) 1pt solid;\n",
              "}\n",
              "\n",
              "#sk-container-id-2 a.estimator_doc_link.fitted {\n",
              "  /* fitted */\n",
              "  border: var(--sklearn-color-fitted-level-1) 1pt solid;\n",
              "  color: var(--sklearn-color-fitted-level-1);\n",
              "}\n",
              "\n",
              "/* On hover */\n",
              "#sk-container-id-2 a.estimator_doc_link:hover {\n",
              "  /* unfitted */\n",
              "  background-color: var(--sklearn-color-unfitted-level-3);\n",
              "  color: var(--sklearn-color-background);\n",
              "  text-decoration: none;\n",
              "}\n",
              "\n",
              "#sk-container-id-2 a.estimator_doc_link.fitted:hover {\n",
              "  /* fitted */\n",
              "  background-color: var(--sklearn-color-fitted-level-3);\n",
              "}\n",
              "</style><div id=\"sk-container-id-2\" class=\"sk-top-container\"><div class=\"sk-text-repr-fallback\"><pre>DecisionTreeClassifier(max_depth=4, min_samples_leaf=10, random_state=1)</pre><b>In a Jupyter environment, please rerun this cell to show the HTML representation or trust the notebook. <br />On GitHub, the HTML representation is unable to render, please try loading this page with nbviewer.org.</b></div><div class=\"sk-container\" hidden><div class=\"sk-item\"><div class=\"sk-estimator fitted sk-toggleable\"><input class=\"sk-toggleable__control sk-hidden--visually\" id=\"sk-estimator-id-9\" type=\"checkbox\" checked><label for=\"sk-estimator-id-9\" class=\"sk-toggleable__label fitted sk-toggleable__label-arrow fitted\">&nbsp;&nbsp;DecisionTreeClassifier<a class=\"sk-estimator-doc-link fitted\" rel=\"noreferrer\" target=\"_blank\" href=\"https://scikit-learn.org/1.5/modules/generated/sklearn.tree.DecisionTreeClassifier.html\">?<span>Documentation for DecisionTreeClassifier</span></a><span class=\"sk-estimator-doc-link fitted\">i<span>Fitted</span></span></label><div class=\"sk-toggleable__content fitted\"><pre>DecisionTreeClassifier(max_depth=4, min_samples_leaf=10, random_state=1)</pre></div> </div></div></div></div>"
            ],
            "text/plain": [
              "DecisionTreeClassifier(max_depth=4, min_samples_leaf=10, random_state=1)"
            ]
          },
          "execution_count": 26,
          "metadata": {},
          "output_type": "execute_result"
        }
      ],
      "source": [
        "from sklearn.tree import DecisionTreeClassifier\n",
        "\n",
        "clf_tree = DecisionTreeClassifier(max_depth=4, min_samples_leaf=10, random_state=1)\n",
        "clf_tree.fit(X2_train_selected, y2_train)"
      ]
    },
    {
      "cell_type": "markdown",
      "metadata": {
        "id": "MM2vaRd8Y7-_"
      },
      "source": [
        "Draw the tree obtained"
      ]
    },
    {
      "cell_type": "code",
      "execution_count": null,
      "metadata": {
        "colab": {
          "base_uri": "https://localhost:8080/",
          "height": 549
        },
        "id": "v1iH73cxY8Yo",
        "outputId": "73301cae-72b9-4391-8358-cd95f6de70ac"
      },
      "outputs": [
        {
          "data": {
            "image/png": "[encoded data removed]",
            "text/plain": [
              "<Figure size 4000x1500 with 1 Axes>"
            ]
          },
          "metadata": {},
          "output_type": "display_data"
        }
      ],
      "source": [
        "import matplotlib.pyplot as plt\n",
        "from sklearn import tree\n",
        "plt.figure(figsize=(40, 15))\n",
        "tree.plot_tree(clf_tree, feature_names=selected_features, class_names=clf_tree.classes_, filled=True)\n",
        "plt.show()"
      ]
    },
    {
      "cell_type": "markdown",
      "metadata": {
        "id": "AS-6d4QmY_1K"
      },
      "source": [
        "Evaluate the preformance of the trained classifier"
      ]
    },
    {
      "cell_type": "code",
      "execution_count": null,
      "metadata": {
        "colab": {
          "base_uri": "https://localhost:8080/"
        },
        "id": "73WMLWYnZA5F",
        "outputId": "7e981425-1095-4461-f04a-be81056edf83"
      },
      "outputs": [
        {
          "data": {
            "text/plain": [
              "array(['Very Low', 'High', 'Very Low', ..., 'Very Low', 'Very Low',\n",
              "       'Very Low'], dtype=object)"
            ]
          },
          "execution_count": 28,
          "metadata": {},
          "output_type": "execute_result"
        }
      ],
      "source": [
        "y_pred = clf_tree.predict(X2_test_selected)\n",
        "y_pred"
      ]
    },
    {
      "cell_type": "markdown",
      "metadata": {
        "id": "1YzKqsG9ZD0u"
      },
      "source": [
        "Evaluate the prediction by using accuracy mesaure"
      ]
    },
    {
      "cell_type": "code",
      "execution_count": null,
      "metadata": {
        "colab": {
          "base_uri": "https://localhost:8080/"
        },
        "id": "fxz5C32lZEYA",
        "outputId": "14986b25-93cb-44a4-f427-f570233129f8"
      },
      "outputs": [
        {
          "name": "stdout",
          "output_type": "stream",
          "text": [
            "Accuracy: 0.91\n"
          ]
        }
      ],
      "source": [
        "from sklearn.metrics import accuracy_score\n",
        "accuracy = accuracy_score(y2_test, y_pred)\n",
        "print(f\"Accuracy: {accuracy:.2f}\")"
      ]
    },
    {
      "cell_type": "markdown",
      "metadata": {
        "id": "21cEI2OEZHTY"
      },
      "source": [
        "Checking the classifier for overfitting"
      ]
    },
    {
      "cell_type": "code",
      "execution_count": null,
      "metadata": {
        "colab": {
          "base_uri": "https://localhost:8080/"
        },
        "id": "HvhEjGkcZHtc",
        "outputId": "53fbe9f3-47d1-4b72-9334-4480fd3bdd95"
      },
      "outputs": [
        {
          "name": "stdout",
          "output_type": "stream",
          "text": [
            "Training Accuracy:  0.9115050497916519\n",
            "The classifier is not overfitting\n",
            "Overfitting result: -0.0026192439936587597\n"
          ]
        }
      ],
      "source": [
        "y_train_pred = clf_tree.predict(X2_train_selected)\n",
        "train_accuracy = accuracy_score(y2_train, y_train_pred)\n",
        "print(\"Training Accuracy: \", train_accuracy)\n",
        "\n",
        "if train_accuracy - accuracy > 0.1:\n",
        "  print(\"The classifier is overfitting\")\n",
        "else:\n",
        "  print(\"The classifier is not overfitting\")\n",
        "\n",
        "print(f\"Overfitting result: {train_accuracy - accuracy}\")"
      ]
    },
    {
      "cell_type": "markdown",
      "metadata": {
        "id": "_VRrRxegZcJ4"
      },
      "source": [
        "Example for player"
      ]
    },
    {
      "cell_type": "code",
      "execution_count": null,
      "metadata": {
        "colab": {
          "base_uri": "https://localhost:8080/"
        },
        "id": "AbLr4uqvZgeF",
        "outputId": "0c98713a-7b03-4ff6-8999-aaf10241a03e"
      },
      "outputs": [
        {
          "name": "stdout",
          "output_type": "stream",
          "text": [
            "Predicted Value Category for the Example Player: Low\n",
            "Actual Value Category for the Example Player: Low\n"
          ]
        }
      ],
      "source": [
        "random_index = np.random.randint(0, len(X2_test_selected))\n",
        "example_player = X2_test_selected[random_index]\n",
        "\n",
        "example_player_reshaped = example_player.reshape(1, -1)\n",
        "\n",
        "predicted_category = clf_tree.predict(example_player_reshaped)[0]\n",
        "\n",
        "print(f\"Predicted Value Category for the Example Player: {predicted_category}\")\n",
        "\n",
        "actual_category = y2_test.iloc[random_index]\n",
        "print(f\"Actual Value Category for the Example Player: {actual_category}\")\n"
      ]
    },
    {
      "cell_type": "markdown",
      "metadata": {
        "id": "FPR8zMY7b8qT"
      },
      "source": [
        "Use the KNN to check the accuracy of the training/test"
      ]
    },
    {
      "cell_type": "code",
      "execution_count": null,
      "metadata": {
        "colab": {
          "base_uri": "https://localhost:8080/"
        },
        "id": "V4DJVi4wb9L9",
        "outputId": "3cc2923f-045f-49f6-dd00-65b7db1a4983"
      },
      "outputs": [
        {
          "name": "stdout",
          "output_type": "stream",
          "text": [
            "KNN Accuracy: 0.82\n",
            "KNN Training Accuracy:  0.8832544671233844\n",
            "The KNN classifier is not overfitting\n",
            "Overfitting result: 0.06065559706688728\n"
          ]
        }
      ],
      "source": [
        "from sklearn.neighbors import KNeighborsClassifier\n",
        "\n",
        "knn = KNeighborsClassifier(n_neighbors=5)\n",
        "knn.fit(X2_train_selected, y2_train)\n",
        "y_pred_knn = knn.predict(X2_test_selected)\n",
        "accuracy_knn = accuracy_score(y2_test, y_pred_knn)\n",
        "print(f\"KNN Accuracy: {accuracy_knn:.2f}\")\n",
        "y_train_pred_knn = knn.predict(X2_train_selected)\n",
        "train_accuracy_knn = accuracy_score(y2_train, y_train_pred_knn)\n",
        "print(\"KNN Training Accuracy: \", train_accuracy_knn)\n",
        "\n",
        "if train_accuracy_knn - accuracy_knn > 0.1:\n",
        "  print(\"The KNN classifier is overfitting\")\n",
        "else:\n",
        "  print(\"The KNN classifier is not overfitting\")\n",
        "\n",
        "print(f\"Overfitting result: {train_accuracy_knn - accuracy_knn}\")"
      ]
    },
    {
      "cell_type": "markdown",
      "metadata": {
        "id": "8rABf7GKcEP5"
      },
      "source": [
        "Example for a player"
      ]
    },
    {
      "cell_type": "code",
      "execution_count": null,
      "metadata": {
        "colab": {
          "base_uri": "https://localhost:8080/"
        },
        "id": "iP1ELvuacGhe",
        "outputId": "058e3298-1cbc-45fc-ee64-1369b53025f8"
      },
      "outputs": [
        {
          "name": "stdout",
          "output_type": "stream",
          "text": [
            "KNN Predicted Value Category for the Example Player: Medium\n",
            "Actual Value Category for the Example Player: Medium\n"
          ]
        }
      ],
      "source": [
        "random_index = np.random.randint(0, len(X2_test_selected))\n",
        "example_player = X2_test_selected[random_index]\n",
        "\n",
        "example_player_reshaped = example_player.reshape(1, -1)\n",
        "\n",
        "predicted_category_knn = knn.predict(example_player_reshaped)[0]\n",
        "\n",
        "print(f\"KNN Predicted Value Category for the Example Player: {predicted_category_knn}\")\n",
        "\n",
        "actual_category = y2_test.iloc[random_index]\n",
        "print(f\"Actual Value Category for the Example Player: {actual_category}\")"
      ]
    },
    {
      "cell_type": "markdown",
      "metadata": {
        "id": "StovbQCkdAQD"
      },
      "source": [
        "Use the SVM to check the accuracy of the training and test"
      ]
    },
    {
      "cell_type": "code",
      "execution_count": null,
      "metadata": {
        "colab": {
          "base_uri": "https://localhost:8080/"
        },
        "id": "ndcas1PefK_j",
        "outputId": "ab853acc-96b8-4749-edb9-8788d409debb"
      },
      "outputs": [
        {
          "name": "stdout",
          "output_type": "stream",
          "text": [
            "SVM Test Accuracy: 0.7268\n",
            "SVM Training Accuracy: 0.7212\n",
            "The SVM classifier does not show signs of significant overfitting.\n",
            "Overfitting result: -0.005669409127890934\n"
          ]
        }
      ],
      "source": [
        "from sklearn.svm import LinearSVC\n",
        "from sklearn.preprocessing import LabelEncoder\n",
        "from sklearn.metrics import accuracy_score\n",
        "\n",
        "all_labels = np.unique(np.concatenate((y2_train, y2_test)))\n",
        "le = LabelEncoder()\n",
        "le.fit(all_labels)\n",
        "\n",
        "y_train_encoded = le.transform(y2_train)\n",
        "y_test_encoded = le.transform(y2_test)\n",
        "\n",
        "svm = LinearSVC(random_state=42, max_iter=5000)\n",
        "svm.fit(X2_train_selected, y_train_encoded)\n",
        "\n",
        "y_pred_encoded = svm.predict(X2_test_selected)\n",
        "y_pred = le.inverse_transform(y_pred_encoded)\n",
        "test_accuracy = accuracy_score(y2_test, y_pred)\n",
        "print(f\"SVM Test Accuracy: {test_accuracy:.4f}\")\n",
        "\n",
        "y_train_pred_encoded = svm.predict(X2_train_selected)\n",
        "y_train_pred = le.inverse_transform(y_train_pred_encoded)\n",
        "train_accuracy = accuracy_score(y2_train, y_train_pred)\n",
        "print(f\"SVM Training Accuracy: {train_accuracy:.4f}\")\n",
        "\n",
        "if train_accuracy - test_accuracy > 0.1:\n",
        "    print(\"The SVM classifier might be overfitting.\")\n",
        "else:\n",
        "    print(\"The SVM classifier does not show signs of significant overfitting.\")\n",
        "\n",
        "print(f\"Overfitting result: {train_accuracy - test_accuracy}\")"
      ]
    },
    {
      "cell_type": "markdown",
      "metadata": {
        "id": "XBAy-vQhdUAa"
      },
      "source": [
        "Example player"
      ]
    },
    {
      "cell_type": "code",
      "execution_count": null,
      "metadata": {
        "colab": {
          "base_uri": "https://localhost:8080/"
        },
        "id": "Sv-ymbFYdVqF",
        "outputId": "fcf33466-355e-420c-c278-f6a4533913c2"
      },
      "outputs": [
        {
          "name": "stdout",
          "output_type": "stream",
          "text": [
            "SVM Predicted Value Category for the Example Player: Very Low\n",
            "Actual Value Category for the Example Player: Low\n"
          ]
        }
      ],
      "source": [
        "random_index = np.random.randint(0, len(X2_test_selected))\n",
        "example_player = X2_test_selected[random_index]\n",
        "\n",
        "example_player_reshaped = example_player.reshape(1, -1)\n",
        "\n",
        "predicted_category_encoded = svm.predict(example_player_reshaped)[0]\n",
        "predicted_category = le.inverse_transform([predicted_category_encoded])[0]\n",
        "\n",
        "print(f\"SVM Predicted Value Category for the Example Player: {predicted_category}\")\n",
        "\n",
        "actual_category = y2_test.iloc[random_index]\n",
        "print(f\"Actual Value Category for the Example Player: {actual_category}\")\n"
      ]
    },
    {
      "cell_type": "markdown",
      "metadata": {
        "id": "67KQ7yeGiEg5"
      },
      "source": [
        "Use XGBoost to predict value_euros and check the accuracy"
      ]
    },
    {
      "cell_type": "code",
      "execution_count": null,
      "metadata": {
        "colab": {
          "base_uri": "https://localhost:8080/"
        },
        "id": "ZEeOdqSIiSe1",
        "outputId": "18a1149b-aa16-4c88-b524-a7c49f414776"
      },
      "outputs": [
        {
          "name": "stdout",
          "output_type": "stream",
          "text": [
            "XGBoost Accuracy: 0.95\n",
            "XGBoost Training Accuracy:  0.9991524825199519\n",
            "The XGBoost classifier does not show signs of significant overfitting.\n",
            "Overfitting result: 0.05141236952560169\n"
          ]
        }
      ],
      "source": [
        "import xgboost as xgb\n",
        "\n",
        "le = LabelEncoder()\n",
        "y2_train_encoded = le.fit_transform(y2_train)\n",
        "y2_test_encoded = le.transform(y2_test)\n",
        "\n",
        "xgb_model = xgb.XGBClassifier(objective='multi:softmax', num_class=len(le.classes_), random_state=42)\n",
        "xgb_model.fit(X2_train_selected, y2_train_encoded)\n",
        "\n",
        "y_pred_encoded = xgb_model.predict(X2_test_selected)\n",
        "y_pred = le.inverse_transform(y_pred_encoded)\n",
        "\n",
        "accuracy = accuracy_score(y2_test, y_pred)\n",
        "print(f\"XGBoost Accuracy: {accuracy:.2f}\")\n",
        "\n",
        "y_train_pred_encoded = xgb_model.predict(X2_train_selected)\n",
        "y_train_pred = le.inverse_transform(y_train_pred_encoded)\n",
        "train_accuracy = accuracy_score(y2_train, y_train_pred)\n",
        "print(\"XGBoost Training Accuracy: \", train_accuracy)\n",
        "\n",
        "if train_accuracy - accuracy > 0.1:\n",
        "    print(\"The XGBoost classifier might be overfitting.\")\n",
        "else:\n",
        "    print(\"The XGBoost classifier does not show signs of significant overfitting.\")\n",
        "\n",
        "print(f\"Overfitting result: {train_accuracy - accuracy}\")\n"
      ]
    },
    {
      "cell_type": "markdown",
      "metadata": {
        "id": "H1clvOPoedUs"
      },
      "source": [
        "Player example"
      ]
    },
    {
      "cell_type": "code",
      "execution_count": null,
      "metadata": {
        "colab": {
          "base_uri": "https://localhost:8080/"
        },
        "id": "_1dDcMvtee3Q",
        "outputId": "166781c1-fb45-4cf1-ad6f-3e6cdb83a34c"
      },
      "outputs": [
        {
          "name": "stdout",
          "output_type": "stream",
          "text": [
            "XGBoost Predicted Value Category for the Example Player: Medium\n",
            "Actual Value Category for the Example Player: Low\n"
          ]
        }
      ],
      "source": [
        "random_index = np.random.randint(0, len(X2_test_selected))\n",
        "example_player = X2_test_selected[random_index]\n",
        "\n",
        "example_player_reshaped = example_player.reshape(1, -1)\n",
        "\n",
        "predicted_category_encoded = xgb_model.predict(example_player_reshaped)[0]\n",
        "predicted_category = le.inverse_transform([predicted_category_encoded])[0]\n",
        "\n",
        "print(f\"XGBoost Predicted Value Category for the Example Player: {predicted_category}\")\n",
        "\n",
        "actual_category = y2_test.iloc[random_index]\n",
        "print(f\"Actual Value Category for the Example Player: {actual_category}\")\n"
      ]
    },
    {
      "cell_type": "markdown",
      "metadata": {
        "id": "pRiTJa6gi44W"
      },
      "source": [
        "Use Naive Bayes to predict the value_euro (m-estimate)"
      ]
    },
    {
      "cell_type": "code",
      "execution_count": null,
      "metadata": {
        "colab": {
          "base_uri": "https://localhost:8080/"
        },
        "id": "_-B06nQhjDWt",
        "outputId": "10abca14-67d8-46dc-81f7-8a7b820d26e9"
      },
      "outputs": [
        {
          "name": "stdout",
          "output_type": "stream",
          "text": [
            "Cross-validation scores: [0.89745763 0.77655367 0.8059322  0.9299435  0.75218988]\n",
            "Average accuracy: 0.8324153779595564\n",
            "Accuracy: 0.8516949152542372\n"
          ]
        }
      ],
      "source": [
        "from sklearn.naive_bayes import GaussianNB\n",
        "from sklearn.model_selection import cross_val_score\n",
        "\n",
        "# Create Gaussian Naive Bayes classifier\n",
        "gnb = GaussianNB()\n",
        "\n",
        "# Perform 5-fold cross-validation\n",
        "cv_scores = cross_val_score(gnb, X, y, cv=5)\n",
        "\n",
        "# Print the cross-validation scores\n",
        "print(\"Cross-validation scores:\", cv_scores)\n",
        "\n",
        "# Calculate and print the average accuracy\n",
        "average_accuracy = cv_scores.mean()\n",
        "print(\"Average accuracy:\", average_accuracy)\n",
        "\n",
        "# Fit the model on the training data\n",
        "gnb.fit(X2_test_selected, y2_test)\n",
        "\n",
        "# Predict on the test set\n",
        "y_pred2 = gnb.predict(X2_test_selected)\n",
        "\n",
        "# Calculate accuracy\n",
        "accuracy = accuracy_score(y2_test, y_pred2)\n",
        "print(\"Accuracy:\", accuracy)"
      ]
    },
    {
      "cell_type": "markdown",
      "metadata": {
        "id": "MQvIe2NWZLxA"
      },
      "source": [
        "## 3. **Predict wage_euros**"
      ]
    },
    {
      "cell_type": "code",
      "execution_count": null,
      "metadata": {
        "id": "5mYA8CVtZMHa"
      },
      "outputs": [],
      "source": [
        "def create_unique_bins(data, n_bins=6):\n",
        "    \"\"\"Create unique bin edges based on percentiles.\"\"\"\n",
        "    percentiles = np.linspace(0, 100, n_bins + 1)\n",
        "    bins = np.unique(np.percentile(data, percentiles))\n",
        "\n",
        "    # Ensure the last bin edge is infinity\n",
        "    if bins[-1] != np.inf:\n",
        "        bins = np.append(bins, np.inf)\n",
        "\n",
        "    return bins"
      ]
    },
    {
      "cell_type": "markdown",
      "metadata": {
        "id": "gbFIEFuCZODB"
      },
      "source": [
        "Load the data to variables"
      ]
    },
    {
      "cell_type": "code",
      "execution_count": null,
      "metadata": {
        "colab": {
          "base_uri": "https://localhost:8080/",
          "height": 377
        },
        "id": "NJwjPWSSZPKl",
        "outputId": "25b1529a-e9e9-4217-934f-276801fbe587"
      },
      "outputs": [
        {
          "data": {
            "application/vnd.google.colaboratory.intrinsic+json": {
              "type": "dataframe",
              "variable_name": "df3"
            },
            "text/html": [
              "\n",
              "  <div id=\"df-4b238d8a-8c35-4188-9244-1d411f74ed15\" class=\"colab-df-container\">\n",
              "    <div>\n",
              "<style scoped>\n",
              "    .dataframe tbody tr th:only-of-type {\n",
              "        vertical-align: middle;\n",
              "    }\n",
              "\n",
              "    .dataframe tbody tr th {\n",
              "        vertical-align: top;\n",
              "    }\n",
              "\n",
              "    .dataframe thead th {\n",
              "        text-align: right;\n",
              "    }\n",
              "</style>\n",
              "<table border=\"1\" class=\"dataframe\">\n",
              "  <thead>\n",
              "    <tr style=\"text-align: right;\">\n",
              "      <th></th>\n",
              "      <th>name</th>\n",
              "      <th>full_name</th>\n",
              "      <th>birth_date</th>\n",
              "      <th>age</th>\n",
              "      <th>height_cm</th>\n",
              "      <th>weight_kgs</th>\n",
              "      <th>positions</th>\n",
              "      <th>nationality</th>\n",
              "      <th>overall_rating</th>\n",
              "      <th>potential</th>\n",
              "      <th>...</th>\n",
              "      <th>positioning</th>\n",
              "      <th>vision</th>\n",
              "      <th>penalties</th>\n",
              "      <th>composure</th>\n",
              "      <th>marking</th>\n",
              "      <th>standing_tackle</th>\n",
              "      <th>sliding_tackle</th>\n",
              "      <th>value_million_euro</th>\n",
              "      <th>age_bracket</th>\n",
              "      <th>potential_vs_overall</th>\n",
              "    </tr>\n",
              "  </thead>\n",
              "  <tbody>\n",
              "    <tr>\n",
              "      <th>0</th>\n",
              "      <td>L. Messi</td>\n",
              "      <td>Lionel AndrÃ©s Messi Cuccittini</td>\n",
              "      <td>6/24/1987</td>\n",
              "      <td>31</td>\n",
              "      <td>170.18</td>\n",
              "      <td>72.1</td>\n",
              "      <td>CF,RW,ST</td>\n",
              "      <td>Argentina</td>\n",
              "      <td>94</td>\n",
              "      <td>94</td>\n",
              "      <td>...</td>\n",
              "      <td>94</td>\n",
              "      <td>94</td>\n",
              "      <td>75</td>\n",
              "      <td>96</td>\n",
              "      <td>33</td>\n",
              "      <td>28</td>\n",
              "      <td>26</td>\n",
              "      <td>110.5</td>\n",
              "      <td>2</td>\n",
              "      <td>0</td>\n",
              "    </tr>\n",
              "    <tr>\n",
              "      <th>1</th>\n",
              "      <td>C. Eriksen</td>\n",
              "      <td>Christian  Dannemann Eriksen</td>\n",
              "      <td>2/14/1992</td>\n",
              "      <td>27</td>\n",
              "      <td>154.94</td>\n",
              "      <td>76.2</td>\n",
              "      <td>CAM,RM,CM</td>\n",
              "      <td>Denmark</td>\n",
              "      <td>88</td>\n",
              "      <td>89</td>\n",
              "      <td>...</td>\n",
              "      <td>84</td>\n",
              "      <td>91</td>\n",
              "      <td>67</td>\n",
              "      <td>88</td>\n",
              "      <td>59</td>\n",
              "      <td>57</td>\n",
              "      <td>22</td>\n",
              "      <td>69.5</td>\n",
              "      <td>1</td>\n",
              "      <td>1</td>\n",
              "    </tr>\n",
              "    <tr>\n",
              "      <th>2</th>\n",
              "      <td>P. Pogba</td>\n",
              "      <td>Paul Pogba</td>\n",
              "      <td>3/15/1993</td>\n",
              "      <td>25</td>\n",
              "      <td>190.50</td>\n",
              "      <td>83.9</td>\n",
              "      <td>CM,CAM</td>\n",
              "      <td>France</td>\n",
              "      <td>88</td>\n",
              "      <td>91</td>\n",
              "      <td>...</td>\n",
              "      <td>82</td>\n",
              "      <td>88</td>\n",
              "      <td>82</td>\n",
              "      <td>87</td>\n",
              "      <td>63</td>\n",
              "      <td>67</td>\n",
              "      <td>67</td>\n",
              "      <td>73.0</td>\n",
              "      <td>1</td>\n",
              "      <td>3</td>\n",
              "    </tr>\n",
              "    <tr>\n",
              "      <th>3</th>\n",
              "      <td>L. Insigne</td>\n",
              "      <td>Lorenzo Insigne</td>\n",
              "      <td>6/4/1991</td>\n",
              "      <td>27</td>\n",
              "      <td>162.56</td>\n",
              "      <td>59.0</td>\n",
              "      <td>LW,ST</td>\n",
              "      <td>Italy</td>\n",
              "      <td>88</td>\n",
              "      <td>88</td>\n",
              "      <td>...</td>\n",
              "      <td>83</td>\n",
              "      <td>87</td>\n",
              "      <td>61</td>\n",
              "      <td>83</td>\n",
              "      <td>51</td>\n",
              "      <td>24</td>\n",
              "      <td>22</td>\n",
              "      <td>62.0</td>\n",
              "      <td>1</td>\n",
              "      <td>0</td>\n",
              "    </tr>\n",
              "    <tr>\n",
              "      <th>4</th>\n",
              "      <td>K. Koulibaly</td>\n",
              "      <td>Kalidou Koulibaly</td>\n",
              "      <td>6/20/1991</td>\n",
              "      <td>27</td>\n",
              "      <td>187.96</td>\n",
              "      <td>88.9</td>\n",
              "      <td>CB</td>\n",
              "      <td>Senegal</td>\n",
              "      <td>88</td>\n",
              "      <td>91</td>\n",
              "      <td>...</td>\n",
              "      <td>24</td>\n",
              "      <td>49</td>\n",
              "      <td>33</td>\n",
              "      <td>80</td>\n",
              "      <td>91</td>\n",
              "      <td>88</td>\n",
              "      <td>87</td>\n",
              "      <td>60.0</td>\n",
              "      <td>1</td>\n",
              "      <td>3</td>\n",
              "    </tr>\n",
              "  </tbody>\n",
              "</table>\n",
              "<p>5 rows × 54 columns</p>\n",
              "</div>\n",
              "    <div class=\"colab-df-buttons\">\n",
              "\n",
              "  <div class=\"colab-df-container\">\n",
              "    <button class=\"colab-df-convert\" onclick=\"convertToInteractive('df-4b238d8a-8c35-4188-9244-1d411f74ed15')\"\n",
              "            title=\"Convert this dataframe to an interactive table.\"\n",
              "            style=\"display:none;\">\n",
              "\n",
              "  <svg xmlns=\"http://www.w3.org/2000/svg\" height=\"24px\" viewBox=\"0 -960 960 960\">\n",
              "    <path d=\"M120-120v-720h720v720H120Zm60-500h600v-160H180v160Zm220 220h160v-160H400v160Zm0 220h160v-160H400v160ZM180-400h160v-160H180v160Zm440 0h160v-160H620v160ZM180-180h160v-160H180v160Zm440 0h160v-160H620v160Z\"/>\n",
              "  </svg>\n",
              "    </button>\n",
              "\n",
              "  <style>\n",
              "    .colab-df-container {\n",
              "      display:flex;\n",
              "      gap: 12px;\n",
              "    }\n",
              "\n",
              "    .colab-df-convert {\n",
              "      background-color: #E8F0FE;\n",
              "      border: none;\n",
              "      border-radius: 50%;\n",
              "      cursor: pointer;\n",
              "      display: none;\n",
              "      fill: #1967D2;\n",
              "      height: 32px;\n",
              "      padding: 0 0 0 0;\n",
              "      width: 32px;\n",
              "    }\n",
              "\n",
              "    .colab-df-convert:hover {\n",
              "      background-color: #E2EBFA;\n",
              "      box-shadow: 0px 1px 2px rgba(60, 64, 67, 0.3), 0px 1px 3px 1px rgba(60, 64, 67, 0.15);\n",
              "      fill: #174EA6;\n",
              "    }\n",
              "\n",
              "    .colab-df-buttons div {\n",
              "      margin-bottom: 4px;\n",
              "    }\n",
              "\n",
              "    [theme=dark] .colab-df-convert {\n",
              "      background-color: #3B4455;\n",
              "      fill: #D2E3FC;\n",
              "    }\n",
              "\n",
              "    [theme=dark] .colab-df-convert:hover {\n",
              "      background-color: #434B5C;\n",
              "      box-shadow: 0px 1px 3px 1px rgba(0, 0, 0, 0.15);\n",
              "      filter: drop-shadow(0px 1px 2px rgba(0, 0, 0, 0.3));\n",
              "      fill: #FFFFFF;\n",
              "    }\n",
              "  </style>\n",
              "\n",
              "    <script>\n",
              "      const buttonEl =\n",
              "        document.querySelector('#df-4b238d8a-8c35-4188-9244-1d411f74ed15 button.colab-df-convert');\n",
              "      buttonEl.style.display =\n",
              "        google.colab.kernel.accessAllowed ? 'block' : 'none';\n",
              "\n",
              "      async function convertToInteractive(key) {\n",
              "        const element = document.querySelector('#df-4b238d8a-8c35-4188-9244-1d411f74ed15');\n",
              "        const dataTable =\n",
              "          await google.colab.kernel.invokeFunction('convertToInteractive',\n",
              "                                                    [key], {});\n",
              "        if (!dataTable) return;\n",
              "\n",
              "        const docLinkHtml = 'Like what you see? Visit the ' +\n",
              "          '<a target=\"_blank\" href=https://colab.research.google.com/notebooks/data_table.ipynb>data table notebook</a>'\n",
              "          + ' to learn more about interactive tables.';\n",
              "        element.innerHTML = '';\n",
              "        dataTable['output_type'] = 'display_data';\n",
              "        await google.colab.output.renderOutput(dataTable, element);\n",
              "        const docLink = document.createElement('div');\n",
              "        docLink.innerHTML = docLinkHtml;\n",
              "        element.appendChild(docLink);\n",
              "      }\n",
              "    </script>\n",
              "  </div>\n",
              "\n",
              "\n",
              "<div id=\"df-ec5d977f-5b72-462a-b726-50d07d5a2992\">\n",
              "  <button class=\"colab-df-quickchart\" onclick=\"quickchart('df-ec5d977f-5b72-462a-b726-50d07d5a2992')\"\n",
              "            title=\"Suggest charts\"\n",
              "            style=\"display:none;\">\n",
              "\n",
              "<svg xmlns=\"http://www.w3.org/2000/svg\" height=\"24px\"viewBox=\"0 0 24 24\"\n",
              "     width=\"24px\">\n",
              "    <g>\n",
              "        <path d=\"M19 3H5c-1.1 0-2 .9-2 2v14c0 1.1.9 2 2 2h14c1.1 0 2-.9 2-2V5c0-1.1-.9-2-2-2zM9 17H7v-7h2v7zm4 0h-2V7h2v10zm4 0h-2v-4h2v4z\"/>\n",
              "    </g>\n",
              "</svg>\n",
              "  </button>\n",
              "\n",
              "<style>\n",
              "  .colab-df-quickchart {\n",
              "      --bg-color: #E8F0FE;\n",
              "      --fill-color: #1967D2;\n",
              "      --hover-bg-color: #E2EBFA;\n",
              "      --hover-fill-color: #174EA6;\n",
              "      --disabled-fill-color: #AAA;\n",
              "      --disabled-bg-color: #DDD;\n",
              "  }\n",
              "\n",
              "  [theme=dark] .colab-df-quickchart {\n",
              "      --bg-color: #3B4455;\n",
              "      --fill-color: #D2E3FC;\n",
              "      --hover-bg-color: #434B5C;\n",
              "      --hover-fill-color: #FFFFFF;\n",
              "      --disabled-bg-color: #3B4455;\n",
              "      --disabled-fill-color: #666;\n",
              "  }\n",
              "\n",
              "  .colab-df-quickchart {\n",
              "    background-color: var(--bg-color);\n",
              "    border: none;\n",
              "    border-radius: 50%;\n",
              "    cursor: pointer;\n",
              "    display: none;\n",
              "    fill: var(--fill-color);\n",
              "    height: 32px;\n",
              "    padding: 0;\n",
              "    width: 32px;\n",
              "  }\n",
              "\n",
              "  .colab-df-quickchart:hover {\n",
              "    background-color: var(--hover-bg-color);\n",
              "    box-shadow: 0 1px 2px rgba(60, 64, 67, 0.3), 0 1px 3px 1px rgba(60, 64, 67, 0.15);\n",
              "    fill: var(--button-hover-fill-color);\n",
              "  }\n",
              "\n",
              "  .colab-df-quickchart-complete:disabled,\n",
              "  .colab-df-quickchart-complete:disabled:hover {\n",
              "    background-color: var(--disabled-bg-color);\n",
              "    fill: var(--disabled-fill-color);\n",
              "    box-shadow: none;\n",
              "  }\n",
              "\n",
              "  .colab-df-spinner {\n",
              "    border: 2px solid var(--fill-color);\n",
              "    border-color: transparent;\n",
              "    border-bottom-color: var(--fill-color);\n",
              "    animation:\n",
              "      spin 1s steps(1) infinite;\n",
              "  }\n",
              "\n",
              "  @keyframes spin {\n",
              "    0% {\n",
              "      border-color: transparent;\n",
              "      border-bottom-color: var(--fill-color);\n",
              "      border-left-color: var(--fill-color);\n",
              "    }\n",
              "    20% {\n",
              "      border-color: transparent;\n",
              "      border-left-color: var(--fill-color);\n",
              "      border-top-color: var(--fill-color);\n",
              "    }\n",
              "    30% {\n",
              "      border-color: transparent;\n",
              "      border-left-color: var(--fill-color);\n",
              "      border-top-color: var(--fill-color);\n",
              "      border-right-color: var(--fill-color);\n",
              "    }\n",
              "    40% {\n",
              "      border-color: transparent;\n",
              "      border-right-color: var(--fill-color);\n",
              "      border-top-color: var(--fill-color);\n",
              "    }\n",
              "    60% {\n",
              "      border-color: transparent;\n",
              "      border-right-color: var(--fill-color);\n",
              "    }\n",
              "    80% {\n",
              "      border-color: transparent;\n",
              "      border-right-color: var(--fill-color);\n",
              "      border-bottom-color: var(--fill-color);\n",
              "    }\n",
              "    90% {\n",
              "      border-color: transparent;\n",
              "      border-bottom-color: var(--fill-color);\n",
              "    }\n",
              "  }\n",
              "</style>\n",
              "\n",
              "  <script>\n",
              "    async function quickchart(key) {\n",
              "      const quickchartButtonEl =\n",
              "        document.querySelector('#' + key + ' button');\n",
              "      quickchartButtonEl.disabled = true;  // To prevent multiple clicks.\n",
              "      quickchartButtonEl.classList.add('colab-df-spinner');\n",
              "      try {\n",
              "        const charts = await google.colab.kernel.invokeFunction(\n",
              "            'suggestCharts', [key], {});\n",
              "      } catch (error) {\n",
              "        console.error('Error during call to suggestCharts:', error);\n",
              "      }\n",
              "      quickchartButtonEl.classList.remove('colab-df-spinner');\n",
              "      quickchartButtonEl.classList.add('colab-df-quickchart-complete');\n",
              "    }\n",
              "    (() => {\n",
              "      let quickchartButtonEl =\n",
              "        document.querySelector('#df-ec5d977f-5b72-462a-b726-50d07d5a2992 button');\n",
              "      quickchartButtonEl.style.display =\n",
              "        google.colab.kernel.accessAllowed ? 'block' : 'none';\n",
              "    })();\n",
              "  </script>\n",
              "</div>\n",
              "\n",
              "    </div>\n",
              "  </div>\n"
            ],
            "text/plain": [
              "           name                        full_name birth_date  age  height_cm  \\\n",
              "0      L. Messi  Lionel AndrÃ©s Messi Cuccittini  6/24/1987   31     170.18   \n",
              "1    C. Eriksen     Christian  Dannemann Eriksen  2/14/1992   27     154.94   \n",
              "2      P. Pogba                       Paul Pogba  3/15/1993   25     190.50   \n",
              "3    L. Insigne                  Lorenzo Insigne   6/4/1991   27     162.56   \n",
              "4  K. Koulibaly                Kalidou Koulibaly  6/20/1991   27     187.96   \n",
              "\n",
              "   weight_kgs  positions nationality  overall_rating  potential  ...  \\\n",
              "0        72.1   CF,RW,ST   Argentina              94         94  ...   \n",
              "1        76.2  CAM,RM,CM     Denmark              88         89  ...   \n",
              "2        83.9     CM,CAM      France              88         91  ...   \n",
              "3        59.0      LW,ST       Italy              88         88  ...   \n",
              "4        88.9         CB     Senegal              88         91  ...   \n",
              "\n",
              "   positioning  vision penalties  composure  marking  standing_tackle  \\\n",
              "0           94      94        75         96       33               28   \n",
              "1           84      91        67         88       59               57   \n",
              "2           82      88        82         87       63               67   \n",
              "3           83      87        61         83       51               24   \n",
              "4           24      49        33         80       91               88   \n",
              "\n",
              "  sliding_tackle  value_million_euro age_bracket  potential_vs_overall  \n",
              "0             26               110.5           2                     0  \n",
              "1             22                69.5           1                     1  \n",
              "2             67                73.0           1                     3  \n",
              "3             22                62.0           1                     0  \n",
              "4             87                60.0           1                     3  \n",
              "\n",
              "[5 rows x 54 columns]"
            ]
          },
          "execution_count": 40,
          "metadata": {},
          "output_type": "execute_result"
        }
      ],
      "source": [
        "import pandas as pd\n",
        "import numpy as np\n",
        "from sklearn.model_selection import train_test_split\n",
        "from sklearn.feature_selection import SelectKBest, f_classif\n",
        "from sklearn.metrics import accuracy_score\n",
        "from xgboost import XGBClassifier\n",
        "from sklearn.preprocessing import LabelEncoder\n",
        "\n",
        "df3 = df.copy()\n",
        "df3.head()"
      ]
    },
    {
      "cell_type": "markdown",
      "metadata": {
        "id": "SfTE3-v_ZRdg"
      },
      "source": [
        "Selecting features"
      ]
    },
    {
      "cell_type": "code",
      "execution_count": null,
      "metadata": {
        "id": "xfAim8JjZSj4"
      },
      "outputs": [],
      "source": [
        "features = ['age', 'overall_rating', 'potential', 'value_euro', 'crossing',\n",
        "       'finishing', 'heading_accuracy', 'short_passing', 'volleys',\n",
        "       'dribbling', 'curve', 'freekick_accuracy', 'long_passing',\n",
        "       'ball_control', 'acceleration', 'sprint_speed', 'agility', 'reactions',\n",
        "       'balance', 'shot_power', 'jumping', 'stamina', 'strength', 'long_shots',\n",
        "       'aggression', 'interceptions', 'positioning', 'vision', 'penalties',\n",
        "       'composure', 'marking', 'standing_tackle', 'sliding_tackle']\n",
        "\n",
        "target = 'wage_euro'"
      ]
    },
    {
      "cell_type": "markdown",
      "metadata": {
        "id": "4dibBUvWZUqk"
      },
      "source": [
        "Handle missing values"
      ]
    },
    {
      "cell_type": "code",
      "execution_count": null,
      "metadata": {
        "id": "z-EjYYrUZVDl"
      },
      "outputs": [],
      "source": [
        "df3 = df3.dropna(subset=features + [target])"
      ]
    },
    {
      "cell_type": "markdown",
      "metadata": {
        "id": "i4xBnNqkZXT9"
      },
      "source": [
        "Categorizing the wage_euro"
      ]
    },
    {
      "cell_type": "code",
      "execution_count": null,
      "metadata": {
        "id": "JYvDR7Q6ZXqo"
      },
      "outputs": [],
      "source": [
        "bins = [0, 10000, 50000, 100000, 200000, np.inf]\n",
        "labels = ['Very Low', 'Low', 'Medium', 'High', 'Very High']\n",
        "X = df3[features]\n",
        "y = pd.cut(df3[target], bins=bins, labels=labels)"
      ]
    },
    {
      "cell_type": "markdown",
      "metadata": {
        "id": "uMMG8XZcZaIB"
      },
      "source": [
        "Select the best 20 features to minimize features"
      ]
    },
    {
      "cell_type": "code",
      "execution_count": null,
      "metadata": {
        "id": "KEJu8B1gZabe"
      },
      "outputs": [],
      "source": [
        "selector = SelectKBest(f_classif, k=20)\n",
        "X_selected = selector.fit_transform(X, y)\n",
        "selected_features = X.columns[selector.get_support()].tolist()"
      ]
    },
    {
      "cell_type": "markdown",
      "metadata": {
        "id": "hvQ09fU8ZcLy"
      },
      "source": [
        "Split the data"
      ]
    },
    {
      "cell_type": "code",
      "execution_count": null,
      "metadata": {
        "id": "bbQYqklHZdVp"
      },
      "outputs": [],
      "source": [
        "X_train, X_test, y_train, y_test = train_test_split(X, y, test_size=0.2, random_state=1)"
      ]
    },
    {
      "cell_type": "markdown",
      "metadata": {
        "id": "nWndZuXmZfyF"
      },
      "source": [
        "Encode the labels"
      ]
    },
    {
      "cell_type": "code",
      "execution_count": null,
      "metadata": {
        "id": "vezCxnYdZhll"
      },
      "outputs": [],
      "source": [
        "le = LabelEncoder()\n",
        "y_train_encoded = le.fit_transform(y_train)\n",
        "y_test_encoded = le.transform(y_test)"
      ]
    },
    {
      "cell_type": "markdown",
      "metadata": {
        "id": "JtlJmL1AZj_S"
      },
      "source": [
        "Train the XGBoost Classifier"
      ]
    },
    {
      "cell_type": "code",
      "execution_count": null,
      "metadata": {
        "colab": {
          "base_uri": "https://localhost:8080/",
          "height": 253
        },
        "id": "n2DYlrMpZkVs",
        "outputId": "6f5fc8a2-f679-4eca-d325-58d94fbe4e97"
      },
      "outputs": [
        {
          "data": {
            "text/html": [
              "<style>#sk-container-id-3 {\n",
              "  /* Definition of color scheme common for light and dark mode */\n",
              "  --sklearn-color-text: black;\n",
              "  --sklearn-color-line: gray;\n",
              "  /* Definition of color scheme for unfitted estimators */\n",
              "  --sklearn-color-unfitted-level-0: #fff5e6;\n",
              "  --sklearn-color-unfitted-level-1: #f6e4d2;\n",
              "  --sklearn-color-unfitted-level-2: #ffe0b3;\n",
              "  --sklearn-color-unfitted-level-3: chocolate;\n",
              "  /* Definition of color scheme for fitted estimators */\n",
              "  --sklearn-color-fitted-level-0: #f0f8ff;\n",
              "  --sklearn-color-fitted-level-1: #d4ebff;\n",
              "  --sklearn-color-fitted-level-2: #b3dbfd;\n",
              "  --sklearn-color-fitted-level-3: cornflowerblue;\n",
              "\n",
              "  /* Specific color for light theme */\n",
              "  --sklearn-color-text-on-default-background: var(--sg-text-color, var(--theme-code-foreground, var(--jp-content-font-color1, black)));\n",
              "  --sklearn-color-background: var(--sg-background-color, var(--theme-background, var(--jp-layout-color0, white)));\n",
              "  --sklearn-color-border-box: var(--sg-text-color, var(--theme-code-foreground, var(--jp-content-font-color1, black)));\n",
              "  --sklearn-color-icon: #696969;\n",
              "\n",
              "  @media (prefers-color-scheme: dark) {\n",
              "    /* Redefinition of color scheme for dark theme */\n",
              "    --sklearn-color-text-on-default-background: var(--sg-text-color, var(--theme-code-foreground, var(--jp-content-font-color1, white)));\n",
              "    --sklearn-color-background: var(--sg-background-color, var(--theme-background, var(--jp-layout-color0, #111)));\n",
              "    --sklearn-color-border-box: var(--sg-text-color, var(--theme-code-foreground, var(--jp-content-font-color1, white)));\n",
              "    --sklearn-color-icon: #878787;\n",
              "  }\n",
              "}\n",
              "\n",
              "#sk-container-id-3 {\n",
              "  color: var(--sklearn-color-text);\n",
              "}\n",
              "\n",
              "#sk-container-id-3 pre {\n",
              "  padding: 0;\n",
              "}\n",
              "\n",
              "#sk-container-id-3 input.sk-hidden--visually {\n",
              "  border: 0;\n",
              "  clip: rect(1px 1px 1px 1px);\n",
              "  clip: rect(1px, 1px, 1px, 1px);\n",
              "  height: 1px;\n",
              "  margin: -1px;\n",
              "  overflow: hidden;\n",
              "  padding: 0;\n",
              "  position: absolute;\n",
              "  width: 1px;\n",
              "}\n",
              "\n",
              "#sk-container-id-3 div.sk-dashed-wrapped {\n",
              "  border: 1px dashed var(--sklearn-color-line);\n",
              "  margin: 0 0.4em 0.5em 0.4em;\n",
              "  box-sizing: border-box;\n",
              "  padding-bottom: 0.4em;\n",
              "  background-color: var(--sklearn-color-background);\n",
              "}\n",
              "\n",
              "#sk-container-id-3 div.sk-container {\n",
              "  /* jupyter's `normalize.less` sets `[hidden] { display: none; }`\n",
              "     but bootstrap.min.css set `[hidden] { display: none !important; }`\n",
              "     so we also need the `!important` here to be able to override the\n",
              "     default hidden behavior on the sphinx rendered scikit-learn.org.\n",
              "     See: https://github.com/scikit-learn/scikit-learn/issues/21755 */\n",
              "  display: inline-block !important;\n",
              "  position: relative;\n",
              "}\n",
              "\n",
              "#sk-container-id-3 div.sk-text-repr-fallback {\n",
              "  display: none;\n",
              "}\n",
              "\n",
              "div.sk-parallel-item,\n",
              "div.sk-serial,\n",
              "div.sk-item {\n",
              "  /* draw centered vertical line to link estimators */\n",
              "  background-image: linear-gradient(var(--sklearn-color-text-on-default-background), var(--sklearn-color-text-on-default-background));\n",
              "  background-size: 2px 100%;\n",
              "  background-repeat: no-repeat;\n",
              "  background-position: center center;\n",
              "}\n",
              "\n",
              "/* Parallel-specific style estimator block */\n",
              "\n",
              "#sk-container-id-3 div.sk-parallel-item::after {\n",
              "  content: \"\";\n",
              "  width: 100%;\n",
              "  border-bottom: 2px solid var(--sklearn-color-text-on-default-background);\n",
              "  flex-grow: 1;\n",
              "}\n",
              "\n",
              "#sk-container-id-3 div.sk-parallel {\n",
              "  display: flex;\n",
              "  align-items: stretch;\n",
              "  justify-content: center;\n",
              "  background-color: var(--sklearn-color-background);\n",
              "  position: relative;\n",
              "}\n",
              "\n",
              "#sk-container-id-3 div.sk-parallel-item {\n",
              "  display: flex;\n",
              "  flex-direction: column;\n",
              "}\n",
              "\n",
              "#sk-container-id-3 div.sk-parallel-item:first-child::after {\n",
              "  align-self: flex-end;\n",
              "  width: 50%;\n",
              "}\n",
              "\n",
              "#sk-container-id-3 div.sk-parallel-item:last-child::after {\n",
              "  align-self: flex-start;\n",
              "  width: 50%;\n",
              "}\n",
              "\n",
              "#sk-container-id-3 div.sk-parallel-item:only-child::after {\n",
              "  width: 0;\n",
              "}\n",
              "\n",
              "/* Serial-specific style estimator block */\n",
              "\n",
              "#sk-container-id-3 div.sk-serial {\n",
              "  display: flex;\n",
              "  flex-direction: column;\n",
              "  align-items: center;\n",
              "  background-color: var(--sklearn-color-background);\n",
              "  padding-right: 1em;\n",
              "  padding-left: 1em;\n",
              "}\n",
              "\n",
              "\n",
              "/* Toggleable style: style used for estimator/Pipeline/ColumnTransformer box that is\n",
              "clickable and can be expanded/collapsed.\n",
              "- Pipeline and ColumnTransformer use this feature and define the default style\n",
              "- Estimators will overwrite some part of the style using the `sk-estimator` class\n",
              "*/\n",
              "\n",
              "/* Pipeline and ColumnTransformer style (default) */\n",
              "\n",
              "#sk-container-id-3 div.sk-toggleable {\n",
              "  /* Default theme specific background. It is overwritten whether we have a\n",
              "  specific estimator or a Pipeline/ColumnTransformer */\n",
              "  background-color: var(--sklearn-color-background);\n",
              "}\n",
              "\n",
              "/* Toggleable label */\n",
              "#sk-container-id-3 label.sk-toggleable__label {\n",
              "  cursor: pointer;\n",
              "  display: block;\n",
              "  width: 100%;\n",
              "  margin-bottom: 0;\n",
              "  padding: 0.5em;\n",
              "  box-sizing: border-box;\n",
              "  text-align: center;\n",
              "}\n",
              "\n",
              "#sk-container-id-3 label.sk-toggleable__label-arrow:before {\n",
              "  /* Arrow on the left of the label */\n",
              "  content: \"▸\";\n",
              "  float: left;\n",
              "  margin-right: 0.25em;\n",
              "  color: var(--sklearn-color-icon);\n",
              "}\n",
              "\n",
              "#sk-container-id-3 label.sk-toggleable__label-arrow:hover:before {\n",
              "  color: var(--sklearn-color-text);\n",
              "}\n",
              "\n",
              "/* Toggleable content - dropdown */\n",
              "\n",
              "#sk-container-id-3 div.sk-toggleable__content {\n",
              "  max-height: 0;\n",
              "  max-width: 0;\n",
              "  overflow: hidden;\n",
              "  text-align: left;\n",
              "  /* unfitted */\n",
              "  background-color: var(--sklearn-color-unfitted-level-0);\n",
              "}\n",
              "\n",
              "#sk-container-id-3 div.sk-toggleable__content.fitted {\n",
              "  /* fitted */\n",
              "  background-color: var(--sklearn-color-fitted-level-0);\n",
              "}\n",
              "\n",
              "#sk-container-id-3 div.sk-toggleable__content pre {\n",
              "  margin: 0.2em;\n",
              "  border-radius: 0.25em;\n",
              "  color: var(--sklearn-color-text);\n",
              "  /* unfitted */\n",
              "  background-color: var(--sklearn-color-unfitted-level-0);\n",
              "}\n",
              "\n",
              "#sk-container-id-3 div.sk-toggleable__content.fitted pre {\n",
              "  /* unfitted */\n",
              "  background-color: var(--sklearn-color-fitted-level-0);\n",
              "}\n",
              "\n",
              "#sk-container-id-3 input.sk-toggleable__control:checked~div.sk-toggleable__content {\n",
              "  /* Expand drop-down */\n",
              "  max-height: 200px;\n",
              "  max-width: 100%;\n",
              "  overflow: auto;\n",
              "}\n",
              "\n",
              "#sk-container-id-3 input.sk-toggleable__control:checked~label.sk-toggleable__label-arrow:before {\n",
              "  content: \"▾\";\n",
              "}\n",
              "\n",
              "/* Pipeline/ColumnTransformer-specific style */\n",
              "\n",
              "#sk-container-id-3 div.sk-label input.sk-toggleable__control:checked~label.sk-toggleable__label {\n",
              "  color: var(--sklearn-color-text);\n",
              "  background-color: var(--sklearn-color-unfitted-level-2);\n",
              "}\n",
              "\n",
              "#sk-container-id-3 div.sk-label.fitted input.sk-toggleable__control:checked~label.sk-toggleable__label {\n",
              "  background-color: var(--sklearn-color-fitted-level-2);\n",
              "}\n",
              "\n",
              "/* Estimator-specific style */\n",
              "\n",
              "/* Colorize estimator box */\n",
              "#sk-container-id-3 div.sk-estimator input.sk-toggleable__control:checked~label.sk-toggleable__label {\n",
              "  /* unfitted */\n",
              "  background-color: var(--sklearn-color-unfitted-level-2);\n",
              "}\n",
              "\n",
              "#sk-container-id-3 div.sk-estimator.fitted input.sk-toggleable__control:checked~label.sk-toggleable__label {\n",
              "  /* fitted */\n",
              "  background-color: var(--sklearn-color-fitted-level-2);\n",
              "}\n",
              "\n",
              "#sk-container-id-3 div.sk-label label.sk-toggleable__label,\n",
              "#sk-container-id-3 div.sk-label label {\n",
              "  /* The background is the default theme color */\n",
              "  color: var(--sklearn-color-text-on-default-background);\n",
              "}\n",
              "\n",
              "/* On hover, darken the color of the background */\n",
              "#sk-container-id-3 div.sk-label:hover label.sk-toggleable__label {\n",
              "  color: var(--sklearn-color-text);\n",
              "  background-color: var(--sklearn-color-unfitted-level-2);\n",
              "}\n",
              "\n",
              "/* Label box, darken color on hover, fitted */\n",
              "#sk-container-id-3 div.sk-label.fitted:hover label.sk-toggleable__label.fitted {\n",
              "  color: var(--sklearn-color-text);\n",
              "  background-color: var(--sklearn-color-fitted-level-2);\n",
              "}\n",
              "\n",
              "/* Estimator label */\n",
              "\n",
              "#sk-container-id-3 div.sk-label label {\n",
              "  font-family: monospace;\n",
              "  font-weight: bold;\n",
              "  display: inline-block;\n",
              "  line-height: 1.2em;\n",
              "}\n",
              "\n",
              "#sk-container-id-3 div.sk-label-container {\n",
              "  text-align: center;\n",
              "}\n",
              "\n",
              "/* Estimator-specific */\n",
              "#sk-container-id-3 div.sk-estimator {\n",
              "  font-family: monospace;\n",
              "  border: 1px dotted var(--sklearn-color-border-box);\n",
              "  border-radius: 0.25em;\n",
              "  box-sizing: border-box;\n",
              "  margin-bottom: 0.5em;\n",
              "  /* unfitted */\n",
              "  background-color: var(--sklearn-color-unfitted-level-0);\n",
              "}\n",
              "\n",
              "#sk-container-id-3 div.sk-estimator.fitted {\n",
              "  /* fitted */\n",
              "  background-color: var(--sklearn-color-fitted-level-0);\n",
              "}\n",
              "\n",
              "/* on hover */\n",
              "#sk-container-id-3 div.sk-estimator:hover {\n",
              "  /* unfitted */\n",
              "  background-color: var(--sklearn-color-unfitted-level-2);\n",
              "}\n",
              "\n",
              "#sk-container-id-3 div.sk-estimator.fitted:hover {\n",
              "  /* fitted */\n",
              "  background-color: var(--sklearn-color-fitted-level-2);\n",
              "}\n",
              "\n",
              "/* Specification for estimator info (e.g. \"i\" and \"?\") */\n",
              "\n",
              "/* Common style for \"i\" and \"?\" */\n",
              "\n",
              ".sk-estimator-doc-link,\n",
              "a:link.sk-estimator-doc-link,\n",
              "a:visited.sk-estimator-doc-link {\n",
              "  float: right;\n",
              "  font-size: smaller;\n",
              "  line-height: 1em;\n",
              "  font-family: monospace;\n",
              "  background-color: var(--sklearn-color-background);\n",
              "  border-radius: 1em;\n",
              "  height: 1em;\n",
              "  width: 1em;\n",
              "  text-decoration: none !important;\n",
              "  margin-left: 1ex;\n",
              "  /* unfitted */\n",
              "  border: var(--sklearn-color-unfitted-level-1) 1pt solid;\n",
              "  color: var(--sklearn-color-unfitted-level-1);\n",
              "}\n",
              "\n",
              ".sk-estimator-doc-link.fitted,\n",
              "a:link.sk-estimator-doc-link.fitted,\n",
              "a:visited.sk-estimator-doc-link.fitted {\n",
              "  /* fitted */\n",
              "  border: var(--sklearn-color-fitted-level-1) 1pt solid;\n",
              "  color: var(--sklearn-color-fitted-level-1);\n",
              "}\n",
              "\n",
              "/* On hover */\n",
              "div.sk-estimator:hover .sk-estimator-doc-link:hover,\n",
              ".sk-estimator-doc-link:hover,\n",
              "div.sk-label-container:hover .sk-estimator-doc-link:hover,\n",
              ".sk-estimator-doc-link:hover {\n",
              "  /* unfitted */\n",
              "  background-color: var(--sklearn-color-unfitted-level-3);\n",
              "  color: var(--sklearn-color-background);\n",
              "  text-decoration: none;\n",
              "}\n",
              "\n",
              "div.sk-estimator.fitted:hover .sk-estimator-doc-link.fitted:hover,\n",
              ".sk-estimator-doc-link.fitted:hover,\n",
              "div.sk-label-container:hover .sk-estimator-doc-link.fitted:hover,\n",
              ".sk-estimator-doc-link.fitted:hover {\n",
              "  /* fitted */\n",
              "  background-color: var(--sklearn-color-fitted-level-3);\n",
              "  color: var(--sklearn-color-background);\n",
              "  text-decoration: none;\n",
              "}\n",
              "\n",
              "/* Span, style for the box shown on hovering the info icon */\n",
              ".sk-estimator-doc-link span {\n",
              "  display: none;\n",
              "  z-index: 9999;\n",
              "  position: relative;\n",
              "  font-weight: normal;\n",
              "  right: .2ex;\n",
              "  padding: .5ex;\n",
              "  margin: .5ex;\n",
              "  width: min-content;\n",
              "  min-width: 20ex;\n",
              "  max-width: 50ex;\n",
              "  color: var(--sklearn-color-text);\n",
              "  box-shadow: 2pt 2pt 4pt #999;\n",
              "  /* unfitted */\n",
              "  background: var(--sklearn-color-unfitted-level-0);\n",
              "  border: .5pt solid var(--sklearn-color-unfitted-level-3);\n",
              "}\n",
              "\n",
              ".sk-estimator-doc-link.fitted span {\n",
              "  /* fitted */\n",
              "  background: var(--sklearn-color-fitted-level-0);\n",
              "  border: var(--sklearn-color-fitted-level-3);\n",
              "}\n",
              "\n",
              ".sk-estimator-doc-link:hover span {\n",
              "  display: block;\n",
              "}\n",
              "\n",
              "/* \"?\"-specific style due to the `<a>` HTML tag */\n",
              "\n",
              "#sk-container-id-3 a.estimator_doc_link {\n",
              "  float: right;\n",
              "  font-size: 1rem;\n",
              "  line-height: 1em;\n",
              "  font-family: monospace;\n",
              "  background-color: var(--sklearn-color-background);\n",
              "  border-radius: 1rem;\n",
              "  height: 1rem;\n",
              "  width: 1rem;\n",
              "  text-decoration: none;\n",
              "  /* unfitted */\n",
              "  color: var(--sklearn-color-unfitted-level-1);\n",
              "  border: var(--sklearn-color-unfitted-level-1) 1pt solid;\n",
              "}\n",
              "\n",
              "#sk-container-id-3 a.estimator_doc_link.fitted {\n",
              "  /* fitted */\n",
              "  border: var(--sklearn-color-fitted-level-1) 1pt solid;\n",
              "  color: var(--sklearn-color-fitted-level-1);\n",
              "}\n",
              "\n",
              "/* On hover */\n",
              "#sk-container-id-3 a.estimator_doc_link:hover {\n",
              "  /* unfitted */\n",
              "  background-color: var(--sklearn-color-unfitted-level-3);\n",
              "  color: var(--sklearn-color-background);\n",
              "  text-decoration: none;\n",
              "}\n",
              "\n",
              "#sk-container-id-3 a.estimator_doc_link.fitted:hover {\n",
              "  /* fitted */\n",
              "  background-color: var(--sklearn-color-fitted-level-3);\n",
              "}\n",
              "</style><div id=\"sk-container-id-3\" class=\"sk-top-container\"><div class=\"sk-text-repr-fallback\"><pre>XGBClassifier(base_score=None, booster=None, callbacks=None,\n",
              "              colsample_bylevel=None, colsample_bynode=None,\n",
              "              colsample_bytree=0.8, device=None, early_stopping_rounds=None,\n",
              "              enable_categorical=False, eval_metric=None, feature_types=None,\n",
              "              gamma=None, grow_policy=None, importance_type=None,\n",
              "              interaction_constraints=None, learning_rate=0.05, max_bin=None,\n",
              "              max_cat_threshold=None, max_cat_to_onehot=None,\n",
              "              max_delta_step=None, max_depth=6, max_leaves=None,\n",
              "              min_child_weight=3, missing=nan, monotone_constraints=None,\n",
              "              multi_strategy=None, n_estimators=200, n_jobs=None,\n",
              "              num_parallel_tree=None, objective=&#x27;multi:softprob&#x27;, ...)</pre><b>In a Jupyter environment, please rerun this cell to show the HTML representation or trust the notebook. <br />On GitHub, the HTML representation is unable to render, please try loading this page with nbviewer.org.</b></div><div class=\"sk-container\" hidden><div class=\"sk-item\"><div class=\"sk-estimator fitted sk-toggleable\"><input class=\"sk-toggleable__control sk-hidden--visually\" id=\"sk-estimator-id-10\" type=\"checkbox\" checked><label for=\"sk-estimator-id-10\" class=\"sk-toggleable__label fitted sk-toggleable__label-arrow fitted\">&nbsp;XGBClassifier<span class=\"sk-estimator-doc-link fitted\">i<span>Fitted</span></span></label><div class=\"sk-toggleable__content fitted\"><pre>XGBClassifier(base_score=None, booster=None, callbacks=None,\n",
              "              colsample_bylevel=None, colsample_bynode=None,\n",
              "              colsample_bytree=0.8, device=None, early_stopping_rounds=None,\n",
              "              enable_categorical=False, eval_metric=None, feature_types=None,\n",
              "              gamma=None, grow_policy=None, importance_type=None,\n",
              "              interaction_constraints=None, learning_rate=0.05, max_bin=None,\n",
              "              max_cat_threshold=None, max_cat_to_onehot=None,\n",
              "              max_delta_step=None, max_depth=6, max_leaves=None,\n",
              "              min_child_weight=3, missing=nan, monotone_constraints=None,\n",
              "              multi_strategy=None, n_estimators=200, n_jobs=None,\n",
              "              num_parallel_tree=None, objective=&#x27;multi:softprob&#x27;, ...)</pre></div> </div></div></div></div>"
            ],
            "text/plain": [
              "XGBClassifier(base_score=None, booster=None, callbacks=None,\n",
              "              colsample_bylevel=None, colsample_bynode=None,\n",
              "              colsample_bytree=0.8, device=None, early_stopping_rounds=None,\n",
              "              enable_categorical=False, eval_metric=None, feature_types=None,\n",
              "              gamma=None, grow_policy=None, importance_type=None,\n",
              "              interaction_constraints=None, learning_rate=0.05, max_bin=None,\n",
              "              max_cat_threshold=None, max_cat_to_onehot=None,\n",
              "              max_delta_step=None, max_depth=6, max_leaves=None,\n",
              "              min_child_weight=3, missing=nan, monotone_constraints=None,\n",
              "              multi_strategy=None, n_estimators=200, n_jobs=None,\n",
              "              num_parallel_tree=None, objective='multi:softprob', ...)"
            ]
          },
          "execution_count": 47,
          "metadata": {},
          "output_type": "execute_result"
        }
      ],
      "source": [
        "xgb_model = XGBClassifier(max_depth=6, learning_rate=0.05, n_estimators=200,\n",
        "                          min_child_weight=3, subsample=0.8, colsample_bytree=0.8,\n",
        "                          random_state=1)\n",
        "xgb_model.fit(X_train, y_train_encoded)"
      ]
    },
    {
      "cell_type": "markdown",
      "metadata": {
        "id": "YcYnbyp3ZpiS"
      },
      "source": [
        "Make predictions"
      ]
    },
    {
      "cell_type": "code",
      "execution_count": null,
      "metadata": {
        "colab": {
          "base_uri": "https://localhost:8080/"
        },
        "id": "V0hiQyzKZswd",
        "outputId": "d9fc1c7f-58a5-4ced-f270-b8153f68d312"
      },
      "outputs": [
        {
          "data": {
            "text/plain": [
              "array(['Very Low', 'Low', 'Very Low', ..., 'Very Low', 'Very Low',\n",
              "       'Very Low'], dtype=object)"
            ]
          },
          "execution_count": 48,
          "metadata": {},
          "output_type": "execute_result"
        }
      ],
      "source": [
        "y_pred_encoded = xgb_model.predict(X_test)\n",
        "y_pred = le.inverse_transform(y_pred_encoded)\n",
        "y_pred"
      ]
    },
    {
      "cell_type": "markdown",
      "metadata": {
        "id": "o1Dw9afxZuyr"
      },
      "source": [
        "Evaluate the model"
      ]
    },
    {
      "cell_type": "code",
      "execution_count": null,
      "metadata": {
        "colab": {
          "base_uri": "https://localhost:8080/"
        },
        "id": "-EIqOYKFZvH5",
        "outputId": "5aa750ca-330e-4744-c300-627a4b5ffcfb"
      },
      "outputs": [
        {
          "name": "stdout",
          "output_type": "stream",
          "text": [
            "Accuracy: 0.8754\n"
          ]
        }
      ],
      "source": [
        "accuracy = accuracy_score(y_test, y_pred)\n",
        "print(f\"Accuracy: {accuracy:.4f}\")"
      ]
    },
    {
      "cell_type": "markdown",
      "metadata": {
        "id": "v6auFVVZZxG1"
      },
      "source": [
        "Check for overfitting"
      ]
    },
    {
      "cell_type": "code",
      "execution_count": null,
      "metadata": {
        "colab": {
          "base_uri": "https://localhost:8080/"
        },
        "id": "OvacG_IEZwyw",
        "outputId": "efd7ba9e-a4a8-483b-93d1-8e0723f55a3a"
      },
      "outputs": [
        {
          "name": "stdout",
          "output_type": "stream",
          "text": [
            "Training Accuracy: 0.9439\n",
            "The classifier is not overfitting\n",
            "Overfitting result: 0.06842823813325893\n"
          ]
        }
      ],
      "source": [
        "y_train_pred_encoded = xgb_model.predict(X_train)\n",
        "y_train_pred = le.inverse_transform(y_train_pred_encoded)\n",
        "train_accuracy = accuracy_score(y_train, y_train_pred)\n",
        "print(f\"Training Accuracy: {train_accuracy:.4f}\")\n",
        "\n",
        "if train_accuracy - accuracy > 0.1:\n",
        "    print(\"The classifier is overfitting\")\n",
        "else:\n",
        "    print(\"The classifier is not overfitting\")\n",
        "\n",
        "print(f\"Overfitting result: {train_accuracy - accuracy}\")"
      ]
    },
    {
      "cell_type": "markdown",
      "metadata": {
        "id": "zCtZbL5Ignqa"
      },
      "source": [
        "Player example"
      ]
    },
    {
      "cell_type": "code",
      "execution_count": null,
      "metadata": {
        "colab": {
          "base_uri": "https://localhost:8080/"
        },
        "id": "fWA0FughgpHe",
        "outputId": "869d1d6b-c4ec-465d-f72a-78f9424d1b59"
      },
      "outputs": [
        {
          "name": "stdout",
          "output_type": "stream",
          "text": [
            "XGBoost Predicted Wage Category for the Example Player: Very Low\n",
            "Actual Wage Category for the Example Player: Very Low\n"
          ]
        }
      ],
      "source": [
        "random_index = np.random.randint(0, len(X_test))\n",
        "example_player = X_test.iloc[random_index]\n",
        "\n",
        "example_player_array = example_player.values.reshape(1, -1)  # Reshape for prediction\n",
        "\n",
        "predicted_category_encoded = xgb_model.predict(example_player_array)[0]\n",
        "predicted_category = le.inverse_transform([predicted_category_encoded])[0]\n",
        "\n",
        "print(f\"XGBoost Predicted Wage Category for the Example Player: {predicted_category}\")\n",
        "\n",
        "actual_category = y_test.iloc[random_index]\n",
        "print(f\"Actual Wage Category for the Example Player: {actual_category}\")\n"
      ]
    },
    {
      "cell_type": "markdown",
      "metadata": {
        "id": "hnfC1MsSZ8b9"
      },
      "source": [
        "Use the KNN to check the accuracy of the training/Test"
      ]
    },
    {
      "cell_type": "code",
      "execution_count": null,
      "metadata": {
        "colab": {
          "base_uri": "https://localhost:8080/"
        },
        "id": "ME1Xi7fJZ-HC",
        "outputId": "5cea31f6-3c2c-43b8-9dd2-90328c7eadf6"
      },
      "outputs": [
        {
          "name": "stdout",
          "output_type": "stream",
          "text": [
            "KNN Accuracy: 0.8511\n",
            "KNN Training Accuracy: 0.8933\n",
            "The KNN classifier is not overfitting\n",
            "Overfitting result: 0.042153480467794546\n"
          ]
        }
      ],
      "source": [
        "from sklearn.neighbors import KNeighborsClassifier\n",
        "\n",
        "knn = KNeighborsClassifier(n_neighbors=5)\n",
        "knn.fit(X_train, y_train_encoded)\n",
        "\n",
        "y_pred_encoded = knn.predict(X_test)\n",
        "y_pred = le.inverse_transform(y_pred_encoded)\n",
        "\n",
        "accuracy = accuracy_score(y_test, y_pred)\n",
        "print(f\"KNN Accuracy: {accuracy:.4f}\")\n",
        "\n",
        "y_train_pred_encoded = knn.predict(X_train)\n",
        "y_train_pred = le.inverse_transform(y_train_pred_encoded)\n",
        "train_accuracy = accuracy_score(y_train, y_train_pred)\n",
        "print(f\"KNN Training Accuracy: {train_accuracy:.4f}\")\n",
        "\n",
        "if train_accuracy - accuracy > 0.1:\n",
        "    print(\"The KNN classifier is overfitting\")\n",
        "else:\n",
        "    print(\"The KNN classifier is not overfitting\")\n",
        "\n",
        "print(f\"Overfitting result: {train_accuracy - accuracy}\")"
      ]
    },
    {
      "cell_type": "markdown",
      "metadata": {
        "id": "Z-pFnU48g8-k"
      },
      "source": [
        "Player example"
      ]
    },
    {
      "cell_type": "code",
      "execution_count": null,
      "metadata": {
        "colab": {
          "base_uri": "https://localhost:8080/"
        },
        "id": "Mxp9o2o-g-TI",
        "outputId": "450d1ded-ce8e-4287-dcc0-4cfa8bc4f5ba"
      },
      "outputs": [
        {
          "name": "stdout",
          "output_type": "stream",
          "text": [
            "KNN Predicted Wage Category for the Example Player: Very Low\n",
            "Actual Wage Category for the Example Player: Very Low\n"
          ]
        },
        {
          "name": "stderr",
          "output_type": "stream",
          "text": [
            "/usr/local/lib/python3.10/dist-packages/sklearn/base.py:493: UserWarning: X does not have valid feature names, but KNeighborsClassifier was fitted with feature names\n",
            "  warnings.warn(\n"
          ]
        }
      ],
      "source": [
        "random_index = np.random.randint(0, len(X_test))\n",
        "example_player = X_test.iloc[random_index]\n",
        "\n",
        "example_player_array = example_player.values.reshape(1, -1)  # Reshape for prediction\n",
        "\n",
        "predicted_category_encoded = knn.predict(example_player_array)[0]\n",
        "predicted_category = le.inverse_transform([predicted_category_encoded])[0]\n",
        "\n",
        "print(f\"KNN Predicted Wage Category for the Example Player: {predicted_category}\")\n",
        "\n",
        "actual_category = y_test.iloc[random_index]\n",
        "print(f\"Actual Wage Category for the Example Player: {actual_category}\")\n"
      ]
    },
    {
      "cell_type": "markdown",
      "metadata": {
        "id": "z3ERoRWwaNFr"
      },
      "source": [
        "Use the SVM to check the accuracy of the training and test"
      ]
    },
    {
      "cell_type": "code",
      "execution_count": null,
      "metadata": {
        "colab": {
          "base_uri": "https://localhost:8080/"
        },
        "id": "BMO7yDauaPQh",
        "outputId": "98edbda5-7503-4c4b-96fd-fe1da9597888"
      },
      "outputs": [
        {
          "name": "stdout",
          "output_type": "stream",
          "text": [
            "SVM Test Accuracy: 0.8511\n",
            "SVM Training Accuracy: 0.8412\n",
            "The SVM classifier does not show signs of significant overfitting.\n",
            "Overfitting result: -0.009968844555159118\n"
          ]
        }
      ],
      "source": [
        "from sklearn.svm import LinearSVC\n",
        "\n",
        "svm = LinearSVC(random_state=42, max_iter=1000)\n",
        "svm.fit(X_train, y_train_encoded)\n",
        "\n",
        "accuracy = accuracy_score(y_test, y_pred)\n",
        "print(f\"SVM Test Accuracy: {accuracy:.4f}\")\n",
        "\n",
        "y_train_pred_encoded = svm.predict(X_train)\n",
        "y_train_pred = le.inverse_transform(y_train_pred_encoded)\n",
        "train_accuracy = accuracy_score(y_train, y_train_pred)\n",
        "print(f\"SVM Training Accuracy: {train_accuracy:.4f}\")\n",
        "\n",
        "if train_accuracy - accuracy > 0.1:\n",
        "    print(\"The SVM classifier might be overfitting.\")\n",
        "else:\n",
        "    print(\"The SVM classifier does not show signs of significant overfitting.\")\n",
        "\n",
        "print(f\"Overfitting result: {train_accuracy - accuracy}\")"
      ]
    },
    {
      "cell_type": "markdown",
      "metadata": {
        "id": "MFASG6zCh_Vw"
      },
      "source": [
        "Player example"
      ]
    },
    {
      "cell_type": "code",
      "execution_count": null,
      "metadata": {
        "colab": {
          "base_uri": "https://localhost:8080/"
        },
        "id": "0tEtV0XciBEG",
        "outputId": "595c0678-00ff-46f7-e5d8-ae81b4e0c7ff"
      },
      "outputs": [
        {
          "name": "stdout",
          "output_type": "stream",
          "text": [
            "SVM Predicted Wage Category for the Example Player: Very Low\n",
            "Actual Wage Category for the Example Player: Very Low\n"
          ]
        },
        {
          "name": "stderr",
          "output_type": "stream",
          "text": [
            "/usr/local/lib/python3.10/dist-packages/sklearn/base.py:493: UserWarning: X does not have valid feature names, but LinearSVC was fitted with feature names\n",
            "  warnings.warn(\n"
          ]
        }
      ],
      "source": [
        "random_index = np.random.randint(0, len(X_test))\n",
        "example_player = X_test.iloc[random_index]\n",
        "\n",
        "example_player_array = example_player.values.reshape(1, -1)  # Reshape for prediction\n",
        "\n",
        "predicted_category_encoded = svm.predict(example_player_array)[0]\n",
        "predicted_category = le.inverse_transform([predicted_category_encoded])[0]\n",
        "\n",
        "print(f\"SVM Predicted Wage Category for the Example Player: {predicted_category}\")\n",
        "\n",
        "actual_category = y_test.iloc[random_index]\n",
        "print(f\"Actual Wage Category for the Example Player: {actual_category}\")\n"
      ]
    },
    {
      "cell_type": "markdown",
      "metadata": {
        "id": "dDmwAy9B8VjM"
      },
      "source": [
        "Create a decision tree classifier using sklearn package and train a model based on the training set."
      ]
    },
    {
      "cell_type": "code",
      "execution_count": null,
      "metadata": {
        "colab": {
          "base_uri": "https://localhost:8080/",
          "height": 619
        },
        "id": "3XyFjbTS-uz9",
        "outputId": "d465b520-1cdf-4c26-cf3f-1333af0b7f3b"
      },
      "outputs": [
        {
          "data": {
            "image/png": "[encoded data removed]",
            "text/plain": [
              "<Figure size 4000x1500 with 1 Axes>"
            ]
          },
          "metadata": {},
          "output_type": "display_data"
        },
        {
          "name": "stdout",
          "output_type": "stream",
          "text": [
            "Accuracy: 0.87\n",
            "Training Accuracy:  0.8730842573628081\n",
            "The classifier is not overfitting\n",
            "Overfitting result: -0.0017744996993387385\n"
          ]
        }
      ],
      "source": [
        "X_wage_tree = df2[features]\n",
        "y_wage_tree = df2[target]\n",
        "y2_categorial = pd.cut(df2['wage_euro'], bins=bins, labels=labels)\n",
        "\n",
        "#Select the best 10 features to minimize features\n",
        "selector = SelectKBest(f_classif, k=10)\n",
        "X2_selected_wage_tree = selector.fit_transform(X_wage_tree, y2_categorial)\n",
        "selected_features = X_wage_tree.columns[selector.get_support()].tolist()\n",
        "\n",
        "X2_train_selected_tree, X2_test_selected_tree, y2_train_tree, y2_test_tree = train_test_split(X2_selected_wage_tree, y2_categorial, test_size=0.2, random_state=1)\n",
        "\n",
        "clf_tree = DecisionTreeClassifier(max_depth=4, min_samples_leaf=10, random_state=1)\n",
        "clf_tree.fit(X2_train_selected_tree, y2_train_tree)\n",
        "plt.figure(figsize=(40, 15))\n",
        "tree.plot_tree(clf_tree, feature_names=selected_features, class_names=clf_tree.classes_, filled=True)\n",
        "plt.show()\n",
        "\n",
        "y_pred = clf_tree.predict(X2_test_selected_tree)\n",
        "accuracy = accuracy_score(y2_test_tree, y_pred)\n",
        "print(f\"Accuracy: {accuracy:.2f}\")\n",
        "\n",
        "y_train_pred = clf_tree.predict(X2_train_selected_tree)\n",
        "train_accuracy = accuracy_score(y2_train_tree, y_train_pred)\n",
        "print(\"Training Accuracy: \", train_accuracy)\n",
        "\n",
        "if train_accuracy - accuracy > 0.1:\n",
        "  print(\"The classifier is overfitting\")\n",
        "else:\n",
        "  print(\"The classifier is not overfitting\")\n",
        "\n",
        "print(f\"Overfitting result: {train_accuracy - accuracy}\")"
      ]
    },
    {
      "cell_type": "markdown",
      "metadata": {
        "id": "QRCLN4triZp4"
      },
      "source": [
        "Player example"
      ]
    },
    {
      "cell_type": "code",
      "execution_count": null,
      "metadata": {
        "colab": {
          "base_uri": "https://localhost:8080/"
        },
        "id": "X1I5NLbYidY9",
        "outputId": "d32aa187-c384-4cdb-dd05-76160be4d5e6"
      },
      "outputs": [
        {
          "name": "stdout",
          "output_type": "stream",
          "text": [
            "Predicted Value Category for the Example Player: Very Low\n",
            "Actual Value Category for the Example Player: Low\n"
          ]
        }
      ],
      "source": [
        "random_index = np.random.randint(0, len(X2_test_selected))\n",
        "example_player = X2_test_selected[random_index]\n",
        "\n",
        "example_player_reshaped = example_player.reshape(1, -1)\n",
        "\n",
        "predicted_category = clf_tree.predict(example_player_reshaped)[0]\n",
        "\n",
        "print(f\"Predicted Value Category for the Example Player: {predicted_category}\")\n",
        "\n",
        "actual_category = y2_test.iloc[random_index]\n",
        "print(f\"Actual Value Category for the Example Player: {actual_category}\")\n"
      ]
    },
    {
      "cell_type": "markdown",
      "metadata": {
        "id": "uu3Ovyues2cy"
      },
      "source": [
        "Use Naive Bayes to predict the value_euro (m-estimate)"
      ]
    },
    {
      "cell_type": "code",
      "execution_count": null,
      "metadata": {
        "colab": {
          "base_uri": "https://localhost:8080/"
        },
        "id": "rEkOqsXzs21-",
        "outputId": "ed166f97-8048-44df-8279-e4b7916d58b9"
      },
      "outputs": [
        {
          "name": "stdout",
          "output_type": "stream",
          "text": [
            "Cross-validation scores: [0.89745763 0.77655367 0.8059322  0.9299435  0.75218988]\n",
            "Average accuracy: 0.8324153779595564\n",
            "Accuracy: 0.8624293785310735\n"
          ]
        }
      ],
      "source": [
        "# Create Gaussian Naive Bayes classifier\n",
        "gnb = GaussianNB()\n",
        "\n",
        "# Perform 5-fold cross-validation\n",
        "cv_scores = cross_val_score(gnb, X, y, cv=5)\n",
        "\n",
        "# Print the cross-validation scores\n",
        "print(\"Cross-validation scores:\", cv_scores)\n",
        "\n",
        "# Calculate and print the average accuracy\n",
        "average_accuracy = cv_scores.mean()\n",
        "print(\"Average accuracy:\", average_accuracy)\n",
        "\n",
        "# Fit the model on the training data\n",
        "gnb.fit(X_train, y_train)\n",
        "\n",
        "# Predict on the test set\n",
        "y_pred2 = gnb.predict(X_test)\n",
        "\n",
        "# Calculate accuracy\n",
        "accuracy = accuracy_score(y_test, y_pred2)\n",
        "print(\"Accuracy:\", accuracy)\n"
      ]
    }
  ],
  "metadata": {
    "colab": {
      "provenance": []
    },
    "kernelspec": {
      "display_name": "Python 3",
      "name": "python3"
    },
    "language_info": {
      "name": "python"
    }
  },
  "nbformat": 4,
  "nbformat_minor": 0
}
